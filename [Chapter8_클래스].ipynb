{
  "nbformat": 4,
  "nbformat_minor": 0,
  "metadata": {
    "colab": {
      "name": "[Chapter8.클래스].ipynb",
      "provenance": [],
      "collapsed_sections": [],
      "toc_visible": true,
      "authorship_tag": "ABX9TyOvdXOgDRmH7PS9DIdepr6y",
      "include_colab_link": true
    },
    "kernelspec": {
      "name": "python3",
      "display_name": "Python 3"
    },
    "language_info": {
      "name": "python"
    }
  },
  "cells": [
    {
      "cell_type": "markdown",
      "metadata": {
        "id": "view-in-github",
        "colab_type": "text"
      },
      "source": [
        "<a href=\"https://colab.research.google.com/github/CamelGoong/Python_practicing/blob/main/%5BChapter8_%ED%81%B4%EB%9E%98%EC%8A%A4%5D.ipynb\" target=\"_parent\"><img src=\"https://colab.research.google.com/assets/colab-badge.svg\" alt=\"Open In Colab\"/></a>"
      ]
    },
    {
      "cell_type": "markdown",
      "source": [
        "# 08-1 클래스의 기본"
      ],
      "metadata": {
        "id": "dK5q0s85muI8"
      }
    },
    {
      "cell_type": "markdown",
      "source": [
        "*  객체 지향 프로그래밍: 객체를 우선으로 생각해서 프로그래밍한다라는 의미\n",
        "클래스를 기반으로 객체를 만들고, 그러한 객체를 우선으로 생각해서 프로그래밍하는 것을 이념으로 \n",
        "삼고 있음.\n",
        "*  추상화: 프로그램에서 필요한 요소만 사용해서 객체를 표현하는 것."
      ],
      "metadata": {
        "id": "uoOMxmZdm3l3"
      }
    },
    {
      "cell_type": "markdown",
      "source": [
        "객체"
      ],
      "metadata": {
        "id": "pYDxUeZhn0xX"
      }
    },
    {
      "cell_type": "code",
      "source": [
        "# 딕셔너리로 객체 만들기\n",
        "\n",
        "students = [\n",
        "           {\"name\" : \"윤인성\", \"korean\" : 87, \"math\" : 98, \"english\" : 88, \"science\" : 95},\n",
        "           {\"name\" : \"연하진\", \"korean\" : 92, \"math\" : 98, \"english\" : 96, \"science\" : 98},\n",
        "           {\"name\" : \"구지연\", \"korean\" : 76, \"math\" : 96, \"english\" : 94, \"science\" : 90},\n",
        "           {\"name\" : \"나선주\", \"korean\" : 98, \"math\" : 92, \"english\" : 96, \"science\" : 92},\n",
        "           {\"name\" : \"윤아린\", \"korean\" : 95, \"math\" : 98, \"english\" : 98, \"science\" : 98},\n",
        "           {\"name\" : \"윤명월\", \"korean\" : 64, \"math\" : 88, \"english\" : 92, \"science\" : 92}\n",
        "]\n",
        "\n",
        "print(\"이름\", \"총점\", \"평균\", sep = \"\\t\")\n",
        "\n",
        "for students in students:\n",
        "  score_sum = students[\"korean\"] + students['math'] + students[\"english\"] + students['science']\n",
        "  score_average = score_sum / 4\n",
        "  print(students['name'], score_sum, score_average, sep = \"\\t\")"
      ],
      "metadata": {
        "colab": {
          "base_uri": "https://localhost:8080/"
        },
        "id": "rHQ5pe6Cm3UJ",
        "outputId": "5c2e752a-7525-477a-a11f-3ad2980c2d9b"
      },
      "execution_count": 8,
      "outputs": [
        {
          "output_type": "stream",
          "name": "stdout",
          "text": [
            "이름\t총점\t평균\n",
            "윤인성\t368\t92.0\n",
            "연하진\t384\t96.0\n",
            "구지연\t356\t89.0\n",
            "나선주\t378\t94.5\n",
            "윤아린\t389\t97.25\n",
            "윤명월\t336\t84.0\n"
          ]
        }
      ]
    },
    {
      "cell_type": "markdown",
      "source": [
        "위처럼, 딕셔너리 형태로 객체를 하나하나 만들다보면, 복잡하고 입력할 때 실수를 할 가능성이 있기 때문에,이를 함수 형태로 구현"
      ],
      "metadata": {
        "id": "D_cHVulNXdFO"
      }
    },
    {
      "cell_type": "code",
      "execution_count": 14,
      "metadata": {
        "colab": {
          "base_uri": "https://localhost:8080/"
        },
        "id": "D9JqFxc4mUvI",
        "outputId": "1c8a6431-e505-49f5-c879-34156e10d449"
      },
      "outputs": [
        {
          "output_type": "stream",
          "name": "stdout",
          "text": [
            "이름\t총점\t평균\n",
            "윤인성\t368\t92.0\n",
            "연하진\t384\t96.0\n",
            "구지연\t356\t89.0\n",
            "나선주\t378\t94.5\n",
            "윤아린\t389\t97.25\n",
            "윤명월\t336\t84.0\n"
          ]
        }
      ],
      "source": [
        "# 객체를 만드는 함수(1)\n",
        "\n",
        "# 딕셔너리를 리턴하는 함수 선언\n",
        "def create_student(name, korean, math, english, science):\n",
        "  return {\n",
        "      \"name\":name,\n",
        "      \"korean\":korean,\n",
        "      \"math\":math,\n",
        "      \"english\":english,\n",
        "      \"science\":science\n",
        "\n",
        "      }\n",
        "\n",
        "# 학생 리스트 선언\n",
        "students = [\n",
        "    create_student(\"윤인성\", 87, 98, 88, 95),\n",
        "    create_student(\"연하진\", 92, 98, 96, 98),\n",
        "    create_student(\"구지연\", 76, 96, 94, 90),\n",
        "    create_student(\"나선주\", 98, 92, 96, 92),\n",
        "    create_student(\"윤아린\", 95, 98, 98, 98),\n",
        "    create_student(\"윤명월\", 64, 88, 92, 92)\n",
        "]\n",
        "\n",
        "print(\"이름\", \"총점\", \"평균\", sep = \"\\t\")\n",
        "\n",
        "for students in students:\n",
        "  score_sum = students[\"korean\"] + students['math'] + students[\"english\"] + students['science']\n",
        "  score_average = score_sum / 4\n",
        "  print(students['name'], score_sum, score_average, sep = \"\\t\")"
      ]
    },
    {
      "cell_type": "code",
      "source": [
        "# 객체를 처리하는 함수(2)\n",
        "\n",
        "def create_student(name, korean, math, english, science):\n",
        "  return {\n",
        "      \"name\":name,\n",
        "      \"korean\":korean,\n",
        "      \"math\":math,\n",
        "      \"english\":english,\n",
        "      \"science\":science\n",
        "\n",
        "      }\n",
        "\n",
        "# 학생을 처리하는 함수 선언\n",
        "def student_get_sum(student):\n",
        "  return student[\"korean\"] + student[\"math\"] + student[\"english\"] + student[\"science\"]\n",
        "\n",
        "def student_get_average(student):\n",
        "  return student_get_sum(student) / 4\n",
        "\n",
        "def student_to_string(student):\n",
        "  return \"{}\\t{}\\t{}\".format(\n",
        "      student[\"name\"],\n",
        "      student_get_sum(student),\n",
        "      student_get_average(student)\n",
        "  )\n"
      ],
      "metadata": {
        "id": "c7dkFgYkp8gG"
      },
      "execution_count": 20,
      "outputs": []
    },
    {
      "cell_type": "code",
      "source": [
        "students = [\n",
        "    create_student(\"윤인성\", 87, 98, 88, 95),\n",
        "    create_student(\"연하진\", 92, 98, 96, 98),\n",
        "    create_student(\"구지연\", 76, 96, 94, 90),\n",
        "    create_student(\"나선주\", 98, 92, 96, 92),\n",
        "    create_student(\"윤아린\", 95, 98, 98, 98),\n",
        "    create_student(\"윤명월\", 64, 88, 92, 92)\n",
        "]\n",
        "\n",
        "print(students)"
      ],
      "metadata": {
        "colab": {
          "base_uri": "https://localhost:8080/"
        },
        "id": "tJKv5wZAe34_",
        "outputId": "a1167998-05a9-4719-8bb5-77b686e1a2de"
      },
      "execution_count": 22,
      "outputs": [
        {
          "output_type": "stream",
          "name": "stdout",
          "text": [
            "[{'name': '윤인성', 'korean': 87, 'math': 98, 'english': 88, 'science': 95}, {'name': '연하진', 'korean': 92, 'math': 98, 'english': 96, 'science': 98}, {'name': '구지연', 'korean': 76, 'math': 96, 'english': 94, 'science': 90}, {'name': '나선주', 'korean': 98, 'math': 92, 'english': 96, 'science': 92}, {'name': '윤아린', 'korean': 95, 'math': 98, 'english': 98, 'science': 98}, {'name': '윤명월', 'korean': 64, 'math': 88, 'english': 92, 'science': 92}]\n"
          ]
        }
      ]
    },
    {
      "cell_type": "code",
      "source": [
        "print(\"이름\", \"총점\", '평균', sep = \"\\t\")\n",
        "for student in students:\n",
        "  print(student_to_string(student))"
      ],
      "metadata": {
        "colab": {
          "base_uri": "https://localhost:8080/"
        },
        "id": "RqRRbE4lf_3J",
        "outputId": "d00e3493-776e-4eb0-bb71-7d179c7d9060"
      },
      "execution_count": 23,
      "outputs": [
        {
          "output_type": "stream",
          "name": "stdout",
          "text": [
            "이름\t총점\t평균\n",
            "윤인성\t368\t92.0\n",
            "연하진\t384\t96.0\n",
            "구지연\t356\t89.0\n",
            "나선주\t378\t94.5\n",
            "윤아린\t389\t97.25\n",
            "윤명월\t336\t84.0\n"
          ]
        }
      ]
    },
    {
      "cell_type": "markdown",
      "source": [
        "클래스 선언하기\n",
        "\n"
      ],
      "metadata": {
        "id": "WayFxr2dj2ob"
      }
    },
    {
      "cell_type": "code",
      "source": [
        " # 클래스를 선언\n",
        "class Student:\n",
        "  pass\n",
        "\n",
        "# 학생 선언\n",
        "student = Student()\n",
        "\n",
        "# 학생 리스트를 선언\n",
        "students = [\n",
        "  Student(),\n",
        "  Student(),\n",
        "  Student(),\n",
        "  Student(),\n",
        "  Student()\n",
        "]\n"
      ],
      "metadata": {
        "id": "tk3cn93PgMcc"
      },
      "execution_count": 24,
      "outputs": []
    },
    {
      "cell_type": "markdown",
      "source": [
        "생성자"
      ],
      "metadata": {
        "id": "UijEmsd5xvEZ"
      }
    },
    {
      "cell_type": "code",
      "source": [
        "class Student:\n",
        "  def __init__(self, name, korean, math, english, science):\n",
        "    self.name = name\n",
        "    self.korean = korean\n",
        "    self.math = math\n",
        "    self.english = english\n",
        "    self.science = science\n",
        "\n",
        "# 학생 리스트 선언\n",
        "students = [\n",
        "            Student(\"윤인성\", 87, 98, 88, 95),\n",
        "            Student(\"연하진\", 92, 98, 96, 98),\n",
        "            Student(\"구지연\", 76, 96, 94, 90),\n",
        "            Student(\"나선주\", 98, 92, 96, 92),\n",
        "            Student(\"윤아린\", 95, 98, 98, 98),\n",
        "            Student(\"윤명월\", 64, 88, 92, 92)\n",
        "]\n",
        "\n",
        "# Student 인스턴스의 속성에 접근하는 방법\n",
        "print(students[1].name)\n",
        "print(students[1].korean)\n",
        "print(students[1].math)\n",
        "print(students[1].english)\n",
        "print(students[1].science)"
      ],
      "metadata": {
        "colab": {
          "base_uri": "https://localhost:8080/"
        },
        "id": "FwYr4L9Yqxvo",
        "outputId": "7a505a31-ecd9-4e0b-c81b-dcc445bbfe19"
      },
      "execution_count": 28,
      "outputs": [
        {
          "output_type": "stream",
          "name": "stdout",
          "text": [
            "연하진\n",
            "92\n",
            "98\n",
            "96\n",
            "98\n"
          ]
        }
      ]
    },
    {
      "cell_type": "markdown",
      "source": [
        "소멸자: 생성자와 반대로 인스턴스가 소멸될 때 호출되는 함수"
      ],
      "metadata": {
        "id": "ib1IAabC1KWt"
      }
    },
    {
      "cell_type": "code",
      "source": [
        "class Test:\n",
        "  def __init__(self,name):\n",
        "    self.name = name\n",
        "    print(\"{}가 생성되었습니다.\".format(self.name))\n",
        "\n",
        "  def __del__(self):\n",
        "    print(\"{}가 파괴되었습니다.\".format(self.name))\n",
        "\n",
        "test = Test(\"A\")"
      ],
      "metadata": {
        "colab": {
          "base_uri": "https://localhost:8080/"
        },
        "id": "VP0Gp_7PyohY",
        "outputId": "fa4f7df5-1c52-4070-e519-0014909f76db"
      },
      "execution_count": 30,
      "outputs": [
        {
          "output_type": "stream",
          "name": "stdout",
          "text": [
            "A가 생성되었습니다.\n"
          ]
        }
      ]
    },
    {
      "cell_type": "markdown",
      "source": [
        "메소드: 클래스가 가지고 있는 함수"
      ],
      "metadata": {
        "id": "3pLki1el21LO"
      }
    },
    {
      "cell_type": "code",
      "source": [
        "# 클래스 내부에 함수(메소드) 선언하기\n",
        "class Student:\n",
        "  def __init__(self, name, korean, math, english, science):\n",
        "    self.name = name\n",
        "    self.korean = korean\n",
        "    self.math = math\n",
        "    self.english = english\n",
        "    self.science = science\n",
        "\n",
        "  def get_sum(self):\n",
        "    return self.korean + self.math + self.english + self.science\n",
        "\n",
        "  def get_average(self):\n",
        "    return self.get_sum() / 4\n",
        "\n",
        "  def to_string(self):\n",
        "    return \"{}\\t{}\\t{}\".format(self.name, self.get_sum(), self.get_average())\n",
        "\n",
        "students = [\n",
        "            Student(\"윤인성\", 87, 98, 88, 95),\n",
        "            Student(\"연하진\", 92, 98, 96, 98),\n",
        "            Student(\"구지연\", 76, 96, 94, 90),\n",
        "            Student(\"나선주\", 98, 92, 96, 92),\n",
        "            Student(\"윤아린\", 95, 98, 98, 98),\n",
        "            Student(\"윤명월\", 64, 88, 92, 92)\n",
        "]\n",
        "\n",
        "print(\"이름\", \"총점\", '평균', sep = \"\\t\")\n",
        "\n",
        "for student in students:\n",
        "  print(student.to_string())"
      ],
      "metadata": {
        "colab": {
          "base_uri": "https://localhost:8080/"
        },
        "id": "L6L6KFSt1wno",
        "outputId": "d14b590e-ff87-4a7a-fcd5-14fdd732ee31"
      },
      "execution_count": 33,
      "outputs": [
        {
          "output_type": "stream",
          "name": "stdout",
          "text": [
            "이름\t총점\t평균\n",
            "윤인성\t368\t92.0\n",
            "연하진\t384\t96.0\n",
            "구지연\t356\t89.0\n",
            "나선주\t378\t94.5\n",
            "윤아린\t389\t97.25\n",
            "윤명월\t336\t84.0\n"
          ]
        }
      ]
    },
    {
      "cell_type": "code",
      "source": [
        ""
      ],
      "metadata": {
        "id": "jXH-Ehhn59bF"
      },
      "execution_count": null,
      "outputs": []
    }
  ]
}