{
  "nbformat": 4,
  "nbformat_minor": 0,
  "metadata": {
    "colab": {
      "name": "[Chapter8.클래스].ipynb",
      "provenance": [],
      "collapsed_sections": [],
      "authorship_tag": "ABX9TyO24sTudMiCdEvEcynBa9Dy",
      "include_colab_link": true
    },
    "kernelspec": {
      "name": "python3",
      "display_name": "Python 3"
    },
    "language_info": {
      "name": "python"
    }
  },
  "cells": [
    {
      "cell_type": "markdown",
      "metadata": {
        "id": "view-in-github",
        "colab_type": "text"
      },
      "source": [
        "<a href=\"https://colab.research.google.com/github/CamelGoong/Python_practicing/blob/main/%5BChapter8_%ED%81%B4%EB%9E%98%EC%8A%A4%5D.ipynb\" target=\"_parent\"><img src=\"https://colab.research.google.com/assets/colab-badge.svg\" alt=\"Open In Colab\"/></a>"
      ]
    },
    {
      "cell_type": "markdown",
      "source": [
        "# 08-1 클래스의 기본"
      ],
      "metadata": {
        "id": "dK5q0s85muI8"
      }
    },
    {
      "cell_type": "markdown",
      "source": [
        "*  객체 지향 프로그래밍: 객체를 우선으로 생각해서 프로그래밍한다라는 의미\n",
        "클래스를 기반으로 객체를 만들고, 그러한 객체를 우선으로 생각해서 프로그래밍하는 것을 이념으로 \n",
        "삼고 있음.\n",
        "*  추상화: 프로그램에서 필요한 요소만 사용해서 객체를 표현하는 것."
      ],
      "metadata": {
        "id": "uoOMxmZdm3l3"
      }
    },
    {
      "cell_type": "markdown",
      "source": [
        "객체"
      ],
      "metadata": {
        "id": "pYDxUeZhn0xX"
      }
    },
    {
      "cell_type": "code",
      "source": [
        "# 딕셔너리로 객체 만들기\n",
        "\n",
        "students = [\n",
        "           {\"name\" : \"윤인성\", \"korean\" : 87, \"math\" : 98, \"english\" : 88, \"science\" : 95},\n",
        "           {\"name\" : \"연하진\", \"korean\" : 92, \"math\" : 98, \"english\" : 96, \"science\" : 98},\n",
        "           {\"name\" : \"구지연\", \"korean\" : 76, \"math\" : 96, \"english\" : 94, \"science\" : 90},\n",
        "           {\"name\" : \"나선주\", \"korean\" : 98, \"math\" : 92, \"english\" : 96, \"science\" : 92},\n",
        "           {\"name\" : \"윤아린\", \"korean\" : 95, \"math\" : 98, \"english\" : 98, \"science\" : 98},\n",
        "           {\"name\" : \"윤명월\", \"korean\" : 64, \"math\" : 88, \"english\" : 92, \"science\" : 92}\n",
        "]\n",
        "\n",
        "print(\"이름\", \"총점\", \"평균\", sep = \"\\t\")\n",
        "\n",
        "for students in students:\n",
        "  score_sum = students[\"korean\"] + students['math'] + students[\"english\"] + students['science']\n",
        "  score_average = score_sum / 4\n",
        "  print(students['name'], score_sum, score_average, sep = \"\\t\")"
      ],
      "metadata": {
        "colab": {
          "base_uri": "https://localhost:8080/"
        },
        "id": "rHQ5pe6Cm3UJ",
        "outputId": "5c2e752a-7525-477a-a11f-3ad2980c2d9b"
      },
      "execution_count": null,
      "outputs": [
        {
          "output_type": "stream",
          "name": "stdout",
          "text": [
            "이름\t총점\t평균\n",
            "윤인성\t368\t92.0\n",
            "연하진\t384\t96.0\n",
            "구지연\t356\t89.0\n",
            "나선주\t378\t94.5\n",
            "윤아린\t389\t97.25\n",
            "윤명월\t336\t84.0\n"
          ]
        }
      ]
    },
    {
      "cell_type": "markdown",
      "source": [
        "위처럼, 딕셔너리 형태로 객체를 하나하나 만들다보면, 복잡하고 입력할 때 실수를 할 가능성이 있기 때문에,이를 함수 형태로 구현"
      ],
      "metadata": {
        "id": "D_cHVulNXdFO"
      }
    },
    {
      "cell_type": "code",
      "execution_count": null,
      "metadata": {
        "colab": {
          "base_uri": "https://localhost:8080/"
        },
        "id": "D9JqFxc4mUvI",
        "outputId": "1c8a6431-e505-49f5-c879-34156e10d449"
      },
      "outputs": [
        {
          "output_type": "stream",
          "name": "stdout",
          "text": [
            "이름\t총점\t평균\n",
            "윤인성\t368\t92.0\n",
            "연하진\t384\t96.0\n",
            "구지연\t356\t89.0\n",
            "나선주\t378\t94.5\n",
            "윤아린\t389\t97.25\n",
            "윤명월\t336\t84.0\n"
          ]
        }
      ],
      "source": [
        "# 객체를 만드는 함수(1)\n",
        "\n",
        "# 딕셔너리를 리턴하는 함수 선언\n",
        "def create_student(name, korean, math, english, science):\n",
        "  return {\n",
        "      \"name\":name,\n",
        "      \"korean\":korean,\n",
        "      \"math\":math,\n",
        "      \"english\":english,\n",
        "      \"science\":science\n",
        "\n",
        "      }\n",
        "\n",
        "# 학생 리스트 선언\n",
        "students = [\n",
        "    create_student(\"윤인성\", 87, 98, 88, 95),\n",
        "    create_student(\"연하진\", 92, 98, 96, 98),\n",
        "    create_student(\"구지연\", 76, 96, 94, 90),\n",
        "    create_student(\"나선주\", 98, 92, 96, 92),\n",
        "    create_student(\"윤아린\", 95, 98, 98, 98),\n",
        "    create_student(\"윤명월\", 64, 88, 92, 92)\n",
        "]\n",
        "\n",
        "print(\"이름\", \"총점\", \"평균\", sep = \"\\t\")\n",
        "\n",
        "for students in students:\n",
        "  score_sum = students[\"korean\"] + students['math'] + students[\"english\"] + students['science']\n",
        "  score_average = score_sum / 4\n",
        "  print(students['name'], score_sum, score_average, sep = \"\\t\")"
      ]
    },
    {
      "cell_type": "code",
      "source": [
        "# 객체를 처리하는 함수(2)\n",
        "\n",
        "def create_student(name, korean, math, english, science):\n",
        "  return {\n",
        "      \"name\":name,\n",
        "      \"korean\":korean,\n",
        "      \"math\":math,\n",
        "      \"english\":english,\n",
        "      \"science\":science\n",
        "\n",
        "      }\n",
        "\n",
        "# 학생을 처리하는 함수 선언\n",
        "def student_get_sum(student):\n",
        "  return student[\"korean\"] + student[\"math\"] + student[\"english\"] + student[\"science\"]\n",
        "\n",
        "def student_get_average(student):\n",
        "  return student_get_sum(student) / 4\n",
        "\n",
        "def student_to_string(student):\n",
        "  return \"{}\\t{}\\t{}\".format(\n",
        "      student[\"name\"],\n",
        "      student_get_sum(student),\n",
        "      student_get_average(student)\n",
        "  )\n"
      ],
      "metadata": {
        "id": "c7dkFgYkp8gG"
      },
      "execution_count": null,
      "outputs": []
    },
    {
      "cell_type": "code",
      "source": [
        "students = [\n",
        "    create_student(\"윤인성\", 87, 98, 88, 95),\n",
        "    create_student(\"연하진\", 92, 98, 96, 98),\n",
        "    create_student(\"구지연\", 76, 96, 94, 90),\n",
        "    create_student(\"나선주\", 98, 92, 96, 92),\n",
        "    create_student(\"윤아린\", 95, 98, 98, 98),\n",
        "    create_student(\"윤명월\", 64, 88, 92, 92)\n",
        "]\n",
        "\n",
        "print(students)"
      ],
      "metadata": {
        "colab": {
          "base_uri": "https://localhost:8080/"
        },
        "id": "tJKv5wZAe34_",
        "outputId": "a1167998-05a9-4719-8bb5-77b686e1a2de"
      },
      "execution_count": null,
      "outputs": [
        {
          "output_type": "stream",
          "name": "stdout",
          "text": [
            "[{'name': '윤인성', 'korean': 87, 'math': 98, 'english': 88, 'science': 95}, {'name': '연하진', 'korean': 92, 'math': 98, 'english': 96, 'science': 98}, {'name': '구지연', 'korean': 76, 'math': 96, 'english': 94, 'science': 90}, {'name': '나선주', 'korean': 98, 'math': 92, 'english': 96, 'science': 92}, {'name': '윤아린', 'korean': 95, 'math': 98, 'english': 98, 'science': 98}, {'name': '윤명월', 'korean': 64, 'math': 88, 'english': 92, 'science': 92}]\n"
          ]
        }
      ]
    },
    {
      "cell_type": "code",
      "source": [
        "print(\"이름\", \"총점\", '평균', sep = \"\\t\")\n",
        "for student in students:\n",
        "  print(student_to_string(student))"
      ],
      "metadata": {
        "colab": {
          "base_uri": "https://localhost:8080/"
        },
        "id": "RqRRbE4lf_3J",
        "outputId": "d00e3493-776e-4eb0-bb71-7d179c7d9060"
      },
      "execution_count": null,
      "outputs": [
        {
          "output_type": "stream",
          "name": "stdout",
          "text": [
            "이름\t총점\t평균\n",
            "윤인성\t368\t92.0\n",
            "연하진\t384\t96.0\n",
            "구지연\t356\t89.0\n",
            "나선주\t378\t94.5\n",
            "윤아린\t389\t97.25\n",
            "윤명월\t336\t84.0\n"
          ]
        }
      ]
    },
    {
      "cell_type": "markdown",
      "source": [
        "클래스 선언하기\n",
        "\n"
      ],
      "metadata": {
        "id": "WayFxr2dj2ob"
      }
    },
    {
      "cell_type": "code",
      "source": [
        " # 클래스를 선언\n",
        "class Student:\n",
        "  pass\n",
        "\n",
        "# 학생 선언\n",
        "student = Student()\n",
        "\n",
        "# 학생 리스트를 선언\n",
        "students = [\n",
        "  Student(),\n",
        "  Student(),\n",
        "  Student(),\n",
        "  Student(),\n",
        "  Student()\n",
        "]\n"
      ],
      "metadata": {
        "id": "tk3cn93PgMcc"
      },
      "execution_count": null,
      "outputs": []
    },
    {
      "cell_type": "markdown",
      "source": [
        "생성자"
      ],
      "metadata": {
        "id": "UijEmsd5xvEZ"
      }
    },
    {
      "cell_type": "code",
      "source": [
        "class Student:\n",
        "  def __init__(self, name, korean, math, english, science):\n",
        "    self.name = name\n",
        "    self.korean = korean\n",
        "    self.math = math\n",
        "    self.english = english\n",
        "    self.science = science\n",
        "\n",
        "# 학생 리스트 선언\n",
        "students = [\n",
        "            Student(\"윤인성\", 87, 98, 88, 95),\n",
        "            Student(\"연하진\", 92, 98, 96, 98),\n",
        "            Student(\"구지연\", 76, 96, 94, 90),\n",
        "            Student(\"나선주\", 98, 92, 96, 92),\n",
        "            Student(\"윤아린\", 95, 98, 98, 98),\n",
        "            Student(\"윤명월\", 64, 88, 92, 92)\n",
        "]\n",
        "\n",
        "# Student 인스턴스의 속성에 접근하는 방법\n",
        "print(students[1].name)\n",
        "print(students[1].korean)\n",
        "print(students[1].math)\n",
        "print(students[1].english)\n",
        "print(students[1].science)"
      ],
      "metadata": {
        "colab": {
          "base_uri": "https://localhost:8080/"
        },
        "id": "FwYr4L9Yqxvo",
        "outputId": "7a505a31-ecd9-4e0b-c81b-dcc445bbfe19"
      },
      "execution_count": null,
      "outputs": [
        {
          "output_type": "stream",
          "name": "stdout",
          "text": [
            "연하진\n",
            "92\n",
            "98\n",
            "96\n",
            "98\n"
          ]
        }
      ]
    },
    {
      "cell_type": "markdown",
      "source": [
        "소멸자: 생성자와 반대로 인스턴스가 소멸될 때 호출되는 함수"
      ],
      "metadata": {
        "id": "ib1IAabC1KWt"
      }
    },
    {
      "cell_type": "code",
      "source": [
        "class Test:\n",
        "  def __init__(self,name):\n",
        "    self.name = name\n",
        "    print(\"{}가 생성되었습니다.\".format(self.name))\n",
        "\n",
        "  def __del__(self):\n",
        "    print(\"{}가 파괴되었습니다.\".format(self.name))\n",
        "\n",
        "test = Test(\"A\")"
      ],
      "metadata": {
        "colab": {
          "base_uri": "https://localhost:8080/"
        },
        "id": "VP0Gp_7PyohY",
        "outputId": "fa4f7df5-1c52-4070-e519-0014909f76db"
      },
      "execution_count": null,
      "outputs": [
        {
          "output_type": "stream",
          "name": "stdout",
          "text": [
            "A가 생성되었습니다.\n"
          ]
        }
      ]
    },
    {
      "cell_type": "markdown",
      "source": [
        "메소드: 클래스가 가지고 있는 함수"
      ],
      "metadata": {
        "id": "3pLki1el21LO"
      }
    },
    {
      "cell_type": "code",
      "source": [
        "# 클래스 내부에 함수(메소드) 선언하기\n",
        "class Student:\n",
        "  def __init__(self, name, korean, math, english, science):\n",
        "    self.name = name\n",
        "    self.korean = korean\n",
        "    self.math = math\n",
        "    self.english = english\n",
        "    self.science = science\n",
        "\n",
        "  def get_sum(self):\n",
        "    return self.korean + self.math + self.english + self.science\n",
        "\n",
        "  def get_average(self):\n",
        "    return self.get_sum() / 4\n",
        "\n",
        "  def to_string(self):\n",
        "    return \"{}\\t{}\\t{}\".format(self.name, self.get_sum(), self.get_average())\n",
        "\n",
        "students = [\n",
        "            Student(\"윤인성\", 87, 98, 88, 95),\n",
        "            Student(\"연하진\", 92, 98, 96, 98),\n",
        "            Student(\"구지연\", 76, 96, 94, 90),\n",
        "            Student(\"나선주\", 98, 92, 96, 92),\n",
        "            Student(\"윤아린\", 95, 98, 98, 98),\n",
        "            Student(\"윤명월\", 64, 88, 92, 92)\n",
        "]\n",
        "\n",
        "print(\"이름\", \"총점\", '평균', sep = \"\\t\")\n",
        "\n",
        "for student in students:\n",
        "  print(student.to_string())"
      ],
      "metadata": {
        "colab": {
          "base_uri": "https://localhost:8080/"
        },
        "id": "L6L6KFSt1wno",
        "outputId": "d14b590e-ff87-4a7a-fcd5-14fdd732ee31"
      },
      "execution_count": null,
      "outputs": [
        {
          "output_type": "stream",
          "name": "stdout",
          "text": [
            "이름\t총점\t평균\n",
            "윤인성\t368\t92.0\n",
            "연하진\t384\t96.0\n",
            "구지연\t356\t89.0\n",
            "나선주\t378\t94.5\n",
            "윤아린\t389\t97.25\n",
            "윤명월\t336\t84.0\n"
          ]
        }
      ]
    },
    {
      "cell_type": "markdown",
      "source": [
        "# 08-2 클래스의 추가적인 구문"
      ],
      "metadata": {
        "id": "6uzvkfprhbak"
      }
    },
    {
      "cell_type": "markdown",
      "source": [
        "어떤 클래스의 인스턴스인지 확인하기\n",
        "\n",
        "*   isinstance(인스턴스, 클래스)\n",
        "\n"
      ],
      "metadata": {
        "id": "4KL3wS3QiSQG"
      }
    },
    {
      "cell_type": "code",
      "source": [
        "class Student:\n",
        "  def __init__(self):\n",
        "    pass\n",
        "\n",
        "student = Student()\n",
        "\n",
        "# 인스턴스 확인하기\n",
        "print(\"isinstance(student, Student):\", isinstance(student,Student))"
      ],
      "metadata": {
        "id": "jXH-Ehhn59bF",
        "colab": {
          "base_uri": "https://localhost:8080/"
        },
        "outputId": "e4dae9a4-af2a-4024-afce-c27b4f1b718c"
      },
      "execution_count": null,
      "outputs": [
        {
          "output_type": "stream",
          "name": "stdout",
          "text": [
            "isinstance(student, Student): True\n"
          ]
        }
      ]
    },
    {
      "cell_type": "code",
      "source": [
        "# isinstance() 함수 활용\n",
        "\n",
        "# 학생 클래스 선언\n",
        "class Student:\n",
        "  def study(self):\n",
        "    print(\"공부를 합니다.\")\n",
        "class Teacher:\n",
        "  def teach(self):\n",
        "    print(\"학생을 가르칩니다.\")\n",
        "\n",
        "# 교실 내부의 객체 리스트를 생성\n",
        "class_room = [Student(), Student(), Teacher(), Student(), Student()]\n",
        "\n",
        "# 반복을 적용해서 적절한 함수 호출\n",
        "for person in class_room:\n",
        "  if isinstance(person, Student):\n",
        "    person.study()\n",
        "  elif isinstance(person, Teacher):\n",
        "    person.teach()\n"
      ],
      "metadata": {
        "id": "syIG4vedjP9Y",
        "colab": {
          "base_uri": "https://localhost:8080/"
        },
        "outputId": "5c8dd8e0-5603-4679-c327-364e777ad4d2"
      },
      "execution_count": 1,
      "outputs": [
        {
          "output_type": "stream",
          "name": "stdout",
          "text": [
            "공부를 합니다.\n",
            "공부를 합니다.\n",
            "학생을 가르칩니다.\n",
            "공부를 합니다.\n",
            "공부를 합니다.\n"
          ]
        }
      ]
    },
    {
      "cell_type": "markdown",
      "source": [
        "특수한 이름의 메소드"
      ],
      "metadata": {
        "id": "jlMAtI9B--ZL"
      }
    },
    {
      "cell_type": "code",
      "source": [
        "# __str__() 함수\n",
        "\n",
        "class Student:\n",
        "  def __init__(self, name, korean, math, english, science):\n",
        "    self.name = name\n",
        "    self.korean = korean\n",
        "    self.math = math\n",
        "    self.english = english\n",
        "    self.science = science\n",
        "\n",
        "  def get_sum(self):\n",
        "    return self.korean + self.math + self.english + self.science\n",
        "\n",
        "  def get_average(self):\n",
        "    return self.get_sum() / 4\n",
        "\n",
        "  def __str__(self):\n",
        "    return \"{}\\t{}\\t{}\".format(\n",
        "        self.name,\n",
        "        self.get_sum(),\n",
        "        self.get_average()\n",
        "    )\n",
        "\n",
        "# 학생 리스트를 선언\n",
        "students = [\n",
        "            Student(\"윤인성\", 87, 98, 88, 95),\n",
        "            Student(\"심태원\", 99, 99, 97, 90),\n",
        "            Student(\"박해균\", 99, 99, 97, 89)\n",
        "]\n",
        "\n",
        "print(\"이름\\t총점\\t평균\")\n",
        "for student in students:\n",
        "  print(str(student))\n"
      ],
      "metadata": {
        "id": "T5k65ibLi6Ec",
        "colab": {
          "base_uri": "https://localhost:8080/"
        },
        "outputId": "29c1cf72-af1a-4338-e5a9-e43f84b5a0ee"
      },
      "execution_count": 11,
      "outputs": [
        {
          "output_type": "stream",
          "name": "stdout",
          "text": [
            "이름\t총점\t평균\n",
            "윤인성\t368\t92.0\n",
            "심태원\t385\t96.25\n",
            "박해균\t384\t96.0\n"
          ]
        }
      ]
    },
    {
      "cell_type": "code",
      "source": [
        "# 크기 비교 함수\n",
        "\n",
        "class Student:\n",
        "  def __init__(self, name, korean, math, english, science):\n",
        "    self.name = name\n",
        "    self.korean = korean\n",
        "    self.math = math\n",
        "    self.english = english\n",
        "    self.science = science\n",
        "\n",
        "  def get_sum(self):\n",
        "    return self.korean + self.math + self.english + self.science\n",
        "\n",
        "  def get_average(self):\n",
        "    return self.get_sum() / 4\n",
        "\n",
        "  def __str__(self):\n",
        "    return \"{}\\t{}\\t{}\".format(\n",
        "        self.name,\n",
        "        self.get_sum(),\n",
        "        self.get_average()\n",
        "    )\n",
        "  \n",
        "  def __eq__(self, value):\n",
        "    return self.get_sum == value.get_sum()\n",
        "\n",
        "  def __ne__(self, value):\n",
        "    return self.get_sum != value.get_sum()\n",
        "\n",
        "  def __gt__(self, value):\n",
        "    return self.get_sum() > value.get_sum()\n",
        "\n",
        "  def __ge__(self, value):\n",
        "    return self.get_sum() >= value.get_sum()\n",
        "\n",
        "  def __lt__(self, value):\n",
        "    return self.get_sum() < value.get_sum()\n",
        "\n",
        "  def __le__(self, value):\n",
        "    return self.get_sum() <= value.get_sum()\n",
        "\n",
        "# 학생 리스트를 선언\n",
        "students = [\n",
        "            Student(\"심태원\", 99, 99, 97, 90),\n",
        "            Student(\"박해균\", 99, 100, 97, 80)\n",
        "]\n",
        "\n",
        "# 학생 선언\n",
        "student_a = Student(\"심태원\", 99, 99, 97, 90)\n",
        "student_b = Student(\"박해균\", 99, 100, 97, 80)\n",
        "\n",
        "print(student_a == student_b)\n",
        "print(student_a != student_b)\n",
        "print(student_a >= student_b)\n",
        "print(student_a <= student_b)\n"
      ],
      "metadata": {
        "colab": {
          "base_uri": "https://localhost:8080/"
        },
        "id": "EABqM1aRA3zu",
        "outputId": "dc0f5a1a-7fe8-45a1-88aa-5145db3bcbce"
      },
      "execution_count": 12,
      "outputs": [
        {
          "output_type": "stream",
          "name": "stdout",
          "text": [
            "False\n",
            "True\n",
            "True\n",
            "False\n"
          ]
        }
      ]
    },
    {
      "cell_type": "markdown",
      "source": [
        "클래스 변수와 메소드\n",
        "\n",
        "\n",
        "*   인스턴스가 속성과 기능을 가질 수도 있지만, 클래스가 속성과 기능을 가질 수도 있음.\n"
      ],
      "metadata": {
        "id": "K6WKpavPFBzs"
      }
    },
    {
      "cell_type": "markdown",
      "source": [
        "클래스 변수"
      ],
      "metadata": {
        "id": "fVPtia_eQrLy"
      }
    },
    {
      "cell_type": "code",
      "source": [
        "# 클래스 변수\n",
        "\n",
        "class Student:\n",
        "  count = 0\n",
        "\n",
        "  def __init__(self, name, korean, math, english, science):\n",
        "    \n",
        "    # 인스턴스 변수 초기화\n",
        "    self.name = name\n",
        "    self.korean = korean\n",
        "    self.math = math\n",
        "    self.english = english\n",
        "    self.science = science\n",
        "\n",
        "  # 클래스 변수 설정\n",
        "    Student.count += 1 # 이런식으로 일반 변수에 접근하듯이 접근하면 됨\n",
        "    print(\"{}번째 학생이 생성되었습니다.\".format(Student.count))\n",
        "\n",
        "students = [\n",
        "            Student(\"윤인성\", 87, 88, 89, 85),\n",
        "            Student(\"윤인성\", 87, 88, 89, 85),\n",
        "            Student(\"윤인성\", 87, 88, 89, 85),\n",
        "            Student(\"윤인성\", 87, 88, 89, 85),\n",
        "            Student(\"윤인성\", 87, 88, 89, 85),\n",
        "            Student(\"윤인성\", 87, 88, 89, 85)\n",
        "\n",
        "]\n",
        "\n",
        "print()\n",
        "print(\"현재 생성된 총 학생 수는 {}명 입니다.\".format(Student.count))"
      ],
      "metadata": {
        "colab": {
          "base_uri": "https://localhost:8080/"
        },
        "id": "YVfHRjmYCNWS",
        "outputId": "b9affb99-fb01-4619-846d-c22d277578ea"
      },
      "execution_count": 13,
      "outputs": [
        {
          "output_type": "stream",
          "name": "stdout",
          "text": [
            "1번째 학생이 생성되었습니다.\n",
            "2번째 학생이 생성되었습니다.\n",
            "3번째 학생이 생성되었습니다.\n",
            "4번째 학생이 생성되었습니다.\n",
            "5번째 학생이 생성되었습니다.\n",
            "6번째 학생이 생성되었습니다.\n",
            "\n",
            "현재 생성된 총 학생 수는 6명 입니다.\n"
          ]
        }
      ]
    },
    {
      "cell_type": "markdown",
      "source": [
        "클래스 함수"
      ],
      "metadata": {
        "id": "JaCQ3IPGQsvL"
      }
    },
    {
      "cell_type": "code",
      "source": [
        "# 클래스 선언\n",
        "class Student:\n",
        "  \n",
        "  # 클래스 변수\n",
        "  count = 0\n",
        "  students = []\n",
        "\n",
        "  # 클래스 함수\n",
        "  @classmethod # 클래스 함수는 이런식으로 데코레이터로 만듦.\n",
        "  def print(cls): # 첫 매개변수는 무조건 class(cls) 자신\n",
        "    print(\"----- 학생 목록 -----\")\n",
        "    print(\"이름\\t총점\\t평균\")\n",
        "    for student in cls.students:\n",
        "      print(str(student))\n",
        "    print(\"----- ----- -----\")\n",
        "\n",
        "  def __init__(self, name, korean, math, english, science):\n",
        "    self.name = name\n",
        "    self.korean = korean\n",
        "    self.math = math\n",
        "    self.english = english\n",
        "    self.science = science\n",
        "    Student.count += 1\n",
        "    Student.students.append(self)\n",
        "\n",
        "  def get_sum(self):\n",
        "    return self.korean + self.math + self.english + self.science\n",
        "\n",
        "  def get_average(self):\n",
        "    return self.get_sum() / 4\n",
        "\n",
        "  def __str__(self):\n",
        "    return \"{}\\t{}\\t{}\".format(\n",
        "        self.name,\n",
        "        self.get_sum(),\n",
        "        self.get_average()\n",
        "    )\n"
      ],
      "metadata": {
        "id": "XrK33KnKQtNE"
      },
      "execution_count": 15,
      "outputs": []
    },
    {
      "cell_type": "code",
      "source": [
        "Student(\"윤인성\", 87, 98, 88, 95)\n",
        "Student(\"연하진\", 92, 98, 96, 98)\n",
        "Student(\"구지연\", 76, 96, 94, 90)\n",
        "Student(\"나선주\", 98, 92, 96, 92)\n",
        "Student(\"윤아린\", 95, 98, 98, 98)\n",
        "Student(\"윤명월\", 64, 88, 92, 92)\n",
        "\n",
        "Student.print()"
      ],
      "metadata": {
        "colab": {
          "base_uri": "https://localhost:8080/"
        },
        "id": "AOg3c9q0VfDE",
        "outputId": "a0568b05-a1d8-43a0-a9ed-6b9ab706b552"
      },
      "execution_count": 16,
      "outputs": [
        {
          "output_type": "stream",
          "name": "stdout",
          "text": [
            "----- 학생 목록 -----\n",
            "이름\t총점\t평균\n",
            "윤인성\t368\t92.0\n",
            "연하진\t384\t96.0\n",
            "구지연\t356\t89.0\n",
            "나선주\t378\t94.5\n",
            "윤아린\t389\t97.25\n",
            "윤명월\t336\t84.0\n",
            "----- ----- -----\n"
          ]
        }
      ]
    },
    {
      "cell_type": "markdown",
      "source": [
        "가비지 컬렉터"
      ],
      "metadata": {
        "id": "tneHjeWAXRnY"
      }
    },
    {
      "cell_type": "code",
      "source": [
        "# 가비지 컬렉터: 변수에 저장하지 않은 경우\n",
        "class Test:\n",
        "  def __init__(self, name):\n",
        "    self.name = name\n",
        "    print(\"{} - 생성되었습니다.\".format(self.name))\n",
        "\n",
        "  def __del__(self):\n",
        "    print(\"{} - 파괴되었습니다.\".format(self.name))\n",
        "\n",
        "Test(\"A\")\n",
        "Test(\"B\")\n",
        "Test(\"C\")"
      ],
      "metadata": {
        "colab": {
          "base_uri": "https://localhost:8080/"
        },
        "id": "42JoXPiGXEqF",
        "outputId": "8a550462-5d40-41b3-c061-d4e905447950"
      },
      "execution_count": 17,
      "outputs": [
        {
          "output_type": "stream",
          "name": "stdout",
          "text": [
            "A - 생성되었습니다.\n",
            "A - 파괴되었습니다.\n",
            "B - 생성되었습니다.\n",
            "B - 파괴되었습니다.\n",
            "C - 생성되었습니다.\n"
          ]
        },
        {
          "output_type": "execute_result",
          "data": {
            "text/plain": [
              "<__main__.Test at 0x7feeb4f2c090>"
            ]
          },
          "metadata": {},
          "execution_count": 17
        }
      ]
    },
    {
      "cell_type": "code",
      "source": [
        "# 가비지 컬렉터: 변수에 저장한 경우\n",
        "class Test:\n",
        "  def __init__(self, name):\n",
        "    self.name = name\n",
        "    print(\"{} - 생성되었습니다.\".format(self.name))\n",
        "\n",
        "  def __del__(self):\n",
        "    print(\"{} - 파괴되었습니다.\".format(self.name))\n",
        "\n",
        "a = Test(\"A\")\n",
        "b = Test(\"B\")\n",
        "c = Test(\"C\")"
      ],
      "metadata": {
        "colab": {
          "base_uri": "https://localhost:8080/"
        },
        "id": "5ICH0uYsYwvI",
        "outputId": "5d957061-8ed9-4cd2-c3f9-0755e3f9a29e"
      },
      "execution_count": 18,
      "outputs": [
        {
          "output_type": "stream",
          "name": "stdout",
          "text": [
            "A - 생성되었습니다.\n",
            "B - 생성되었습니다.\n",
            "C - 생성되었습니다.\n"
          ]
        }
      ]
    },
    {
      "cell_type": "markdown",
      "source": [
        "프라이빗 변수와 게터/세터"
      ],
      "metadata": {
        "id": "PNo8dHsyZVkH"
      }
    },
    {
      "cell_type": "code",
      "source": [
        "# 원의 둘레와 넓이를 구하는 객체 지향 프로그램\n",
        "import math\n",
        "\n",
        "class Circle:\n",
        "  def __init__(self, radius):\n",
        "    self.radius = radius\n",
        "  \n",
        "  def get_circumference(self):\n",
        "    return 2 * math.pi * self.radius\n",
        "\n",
        "  def get_area(self):\n",
        "    return math.pi * self.radius ** 2\n",
        "\n",
        "circle = Circle(10) # 인스턴스화\n",
        "circle.radius = -2\n",
        "print(\"원의 둘레:\", circle.get_circumference())\n",
        "print(\"원의 넓이:\", circle.get_area())"
      ],
      "metadata": {
        "colab": {
          "base_uri": "https://localhost:8080/"
        },
        "id": "xzr-2Ap3ZHth",
        "outputId": "7159fdff-5aa8-44bd-b74c-573620cdf7ae"
      },
      "execution_count": 20,
      "outputs": [
        {
          "output_type": "stream",
          "name": "stdout",
          "text": [
            "원의 둘레: -12.566370614359172\n",
            "원의 넓이: 12.566370614359172\n"
          ]
        }
      ]
    },
    {
      "cell_type": "markdown",
      "source": [
        "프라이빗 변수"
      ],
      "metadata": {
        "id": "wfYRqwIVawU6"
      }
    },
    {
      "cell_type": "code",
      "source": [
        "import math\n",
        "\n",
        "class Circle:\n",
        "  def __init__(self, radius):\n",
        "    self.__radius = radius # __radius 이런식으로 하면, 클래스 내부의 변수를 외부에서 사용하는 것을 막을 수 있음\n",
        "  \n",
        "  def get_circumference(self):\n",
        "    return 2 * math.pi * self.__radius # 모든 부분을 __radius 이렇게 써줘야 됨\n",
        "\n",
        "  def get_area(self):\n",
        "    return math.pi * self.__radius ** 2 # 모든 부분을 __radius 이렇게 써줘야 됨\n",
        "\n",
        "circle = Circle(10) # 인스턴스화\n",
        "print(\"원의 둘레:\", circle.get_circumference())\n",
        "print(\"원의 넓이:\", circle.get_area())\n",
        "\n",
        "# 외부에서 __radius에 접근\n",
        "print(\" # __radius에 접근합니다.\")\n",
        "print(circle.radius)"
      ],
      "metadata": {
        "colab": {
          "base_uri": "https://localhost:8080/",
          "height": 263
        },
        "id": "HctJhsB0aedK",
        "outputId": "a526d54b-b140-4e5c-f4ae-123fbf6c400c"
      },
      "execution_count": 42,
      "outputs": [
        {
          "output_type": "stream",
          "name": "stdout",
          "text": [
            "원의 둘레: 62.83185307179586\n",
            "원의 넓이: 314.1592653589793\n",
            " # __radius에 접근합니다.\n"
          ]
        },
        {
          "output_type": "error",
          "ename": "AttributeError",
          "evalue": "ignored",
          "traceback": [
            "\u001b[0;31m---------------------------------------------------------------------------\u001b[0m",
            "\u001b[0;31mAttributeError\u001b[0m                            Traceback (most recent call last)",
            "\u001b[0;32m<ipython-input-42-f805acebdebc>\u001b[0m in \u001b[0;36m<module>\u001b[0;34m()\u001b[0m\n\u001b[1;32m     17\u001b[0m \u001b[0;31m# 외부에서 __radius에 접근\u001b[0m\u001b[0;34m\u001b[0m\u001b[0;34m\u001b[0m\u001b[0;34m\u001b[0m\u001b[0m\n\u001b[1;32m     18\u001b[0m \u001b[0mprint\u001b[0m\u001b[0;34m(\u001b[0m\u001b[0;34m\" # __radius에 접근합니다.\"\u001b[0m\u001b[0;34m)\u001b[0m\u001b[0;34m\u001b[0m\u001b[0;34m\u001b[0m\u001b[0m\n\u001b[0;32m---> 19\u001b[0;31m \u001b[0mprint\u001b[0m\u001b[0;34m(\u001b[0m\u001b[0mcircle\u001b[0m\u001b[0;34m.\u001b[0m\u001b[0mradius\u001b[0m\u001b[0;34m)\u001b[0m\u001b[0;34m\u001b[0m\u001b[0;34m\u001b[0m\u001b[0m\n\u001b[0m",
            "\u001b[0;31mAttributeError\u001b[0m: 'Circle' object has no attribute 'radius'"
          ]
        }
      ]
    },
    {
      "cell_type": "markdown",
      "source": [
        "게터와 세터: 외부에서 프라이빗 변수에 간접적으로 접근하는 방법"
      ],
      "metadata": {
        "id": "pyHVxdbWcwSU"
      }
    },
    {
      "cell_type": "code",
      "source": [
        "import math\n",
        "\n",
        "class Circle:\n",
        "  def __init__(self, radius):\n",
        "    self.__radius = radius # __radius 이런식으로 하면, 클래스 내부의 변수를 외부에서 사용하는 것을 막을 수 있음\n",
        "  \n",
        "  def get_circumference(self):\n",
        "    return 2 * math.pi * self.__radius # 모든 부분을 __radius 이렇게 써줘야 됨\n",
        "\n",
        "  def get_area(self):\n",
        "    return math.pi * self.__radius ** 2 # 모든 부분을 __radius 이렇게 써줘야 됨\n",
        "\n",
        "  # 게터와 세터를 선언\n",
        "  def get_radius(self):\n",
        "    return self.__radius\n",
        "\n",
        "  def set_radius(self, value):\n",
        "    if value <= 0:\n",
        "      raise TypeError(\"길이는 양의 숫자여야 합니다.\")\n",
        "    \n",
        "    self.__radius = value\n",
        "\n",
        "\n",
        "circle = Circle(10) # 인스턴스화\n",
        "print(\"원의 둘레:\", circle.get_circumference())\n",
        "print(\"원의 넓이:\", circle.get_area())\n",
        "\n",
        "# 외부에서 간접적으로 __radius에 접근\n",
        "print(\" # __radius에 접근합니다.\")\n",
        "print(circle.get_radius())\n",
        "circle.set_radius(2)\n",
        "\n",
        "# 음의 숫자를 radius에 입력\n",
        "circle.set_radius(-1)"
      ],
      "metadata": {
        "colab": {
          "base_uri": "https://localhost:8080/",
          "height": 408
        },
        "id": "8CS9BKskbx2G",
        "outputId": "27018063-3f2c-429b-8064-1a9ddaa77ac7"
      },
      "execution_count": 41,
      "outputs": [
        {
          "output_type": "stream",
          "name": "stdout",
          "text": [
            "원의 둘레: 62.83185307179586\n",
            "원의 넓이: 314.1592653589793\n",
            " # __radius에 접근합니다.\n",
            "10\n"
          ]
        },
        {
          "output_type": "error",
          "ename": "TypeError",
          "evalue": "ignored",
          "traceback": [
            "\u001b[0;31m---------------------------------------------------------------------------\u001b[0m",
            "\u001b[0;31mTypeError\u001b[0m                                 Traceback (most recent call last)",
            "\u001b[0;32m<ipython-input-41-628369eb779f>\u001b[0m in \u001b[0;36m<module>\u001b[0;34m()\u001b[0m\n\u001b[1;32m     32\u001b[0m \u001b[0;34m\u001b[0m\u001b[0m\n\u001b[1;32m     33\u001b[0m \u001b[0;31m# 음의 숫자를 raidius에 입력\u001b[0m\u001b[0;34m\u001b[0m\u001b[0;34m\u001b[0m\u001b[0;34m\u001b[0m\u001b[0m\n\u001b[0;32m---> 34\u001b[0;31m \u001b[0mcircle\u001b[0m\u001b[0;34m.\u001b[0m\u001b[0mset_radius\u001b[0m\u001b[0;34m(\u001b[0m\u001b[0;34m-\u001b[0m\u001b[0;36m1\u001b[0m\u001b[0;34m)\u001b[0m\u001b[0;34m\u001b[0m\u001b[0;34m\u001b[0m\u001b[0m\n\u001b[0m",
            "\u001b[0;32m<ipython-input-41-628369eb779f>\u001b[0m in \u001b[0;36mset_radius\u001b[0;34m(self, value)\u001b[0m\n\u001b[1;32m     17\u001b[0m   \u001b[0;32mdef\u001b[0m \u001b[0mset_radius\u001b[0m\u001b[0;34m(\u001b[0m\u001b[0mself\u001b[0m\u001b[0;34m,\u001b[0m \u001b[0mvalue\u001b[0m\u001b[0;34m)\u001b[0m\u001b[0;34m:\u001b[0m\u001b[0;34m\u001b[0m\u001b[0;34m\u001b[0m\u001b[0m\n\u001b[1;32m     18\u001b[0m     \u001b[0;32mif\u001b[0m \u001b[0mvalue\u001b[0m \u001b[0;34m<=\u001b[0m \u001b[0;36m0\u001b[0m\u001b[0;34m:\u001b[0m\u001b[0;34m\u001b[0m\u001b[0;34m\u001b[0m\u001b[0m\n\u001b[0;32m---> 19\u001b[0;31m       \u001b[0;32mraise\u001b[0m \u001b[0mTypeError\u001b[0m\u001b[0;34m(\u001b[0m\u001b[0;34m\"길이는 양의 숫자여야 합니다.\"\u001b[0m\u001b[0;34m)\u001b[0m\u001b[0;34m\u001b[0m\u001b[0;34m\u001b[0m\u001b[0m\n\u001b[0m\u001b[1;32m     20\u001b[0m \u001b[0;34m\u001b[0m\u001b[0m\n\u001b[1;32m     21\u001b[0m     \u001b[0mself\u001b[0m\u001b[0;34m.\u001b[0m\u001b[0m__radius\u001b[0m \u001b[0;34m=\u001b[0m \u001b[0mvalue\u001b[0m\u001b[0;34m\u001b[0m\u001b[0;34m\u001b[0m\u001b[0m\n",
            "\u001b[0;31mTypeError\u001b[0m: 길이는 양의 숫자여야 합니다."
          ]
        }
      ]
    },
    {
      "cell_type": "markdown",
      "source": [
        "데코레이터를 사용한 게터와 세터"
      ],
      "metadata": {
        "id": "0WqG681rhypN"
      }
    },
    {
      "cell_type": "code",
      "source": [
        "import math\n",
        "\n",
        "class Circle:\n",
        "  def __init__(self, radius):\n",
        "    self.__radius = radius # __radius 이런식으로 하면, 클래스 내부의 변수를 외부에서 사용하는 것을 막을 수 있음\n",
        "  \n",
        "  def get_circumference(self):\n",
        "    return 2 * math.pi * self.__radius # 모든 부분을 __radius 이렇게 써줘야 됨\n",
        "\n",
        "  def get_area(self):\n",
        "    return math.pi * self.__radius ** 2 # 모든 부분을 __radius 이렇게 써줘야 됨\n",
        "\n",
        "  # 게터와 세터를 선언\n",
        "  @property\n",
        "  # 게터\n",
        "  def radius(self):\n",
        "    return self.__radius\n",
        "  \n",
        "  # 세터\n",
        "  @radius.setter # 변수명.setter\n",
        "  def radius(self, value):\n",
        "    if value <= 0:\n",
        "      raise TypeError(\"길이는 양의 숫자여야 합니다.\")\n",
        "      \n",
        "      self.___radius = value\n",
        "\n",
        "\n",
        "circle = Circle(10) # 인스턴스화\n",
        "print(\"원의 둘레:\", circle.get_circumference())\n",
        "print(\"원의 넓이:\", circle.get_area())\n",
        "\n",
        "# 음의 숫자를 radius에 입력\n",
        "circle.radius = -10"
      ],
      "metadata": {
        "colab": {
          "base_uri": "https://localhost:8080/",
          "height": 372
        },
        "id": "nm6pYLP-dMYy",
        "outputId": "89976108-17f6-4262-e84c-4ee85a9a1aad"
      },
      "execution_count": 45,
      "outputs": [
        {
          "output_type": "stream",
          "name": "stdout",
          "text": [
            "원의 둘레: 62.83185307179586\n",
            "원의 넓이: 314.1592653589793\n"
          ]
        },
        {
          "output_type": "error",
          "ename": "TypeError",
          "evalue": "ignored",
          "traceback": [
            "\u001b[0;31m---------------------------------------------------------------------------\u001b[0m",
            "\u001b[0;31mTypeError\u001b[0m                                 Traceback (most recent call last)",
            "\u001b[0;32m<ipython-input-45-168db6c8964e>\u001b[0m in \u001b[0;36m<module>\u001b[0;34m()\u001b[0m\n\u001b[1;32m     31\u001b[0m \u001b[0;34m\u001b[0m\u001b[0m\n\u001b[1;32m     32\u001b[0m \u001b[0;31m# 음의 숫자를 radius에 입력\u001b[0m\u001b[0;34m\u001b[0m\u001b[0;34m\u001b[0m\u001b[0;34m\u001b[0m\u001b[0m\n\u001b[0;32m---> 33\u001b[0;31m \u001b[0mcircle\u001b[0m\u001b[0;34m.\u001b[0m\u001b[0mradius\u001b[0m \u001b[0;34m=\u001b[0m \u001b[0;34m-\u001b[0m\u001b[0;36m10\u001b[0m\u001b[0;34m\u001b[0m\u001b[0;34m\u001b[0m\u001b[0m\n\u001b[0m",
            "\u001b[0;32m<ipython-input-45-168db6c8964e>\u001b[0m in \u001b[0;36mradius\u001b[0;34m(self, value)\u001b[0m\n\u001b[1;32m     21\u001b[0m   \u001b[0;32mdef\u001b[0m \u001b[0mradius\u001b[0m\u001b[0;34m(\u001b[0m\u001b[0mself\u001b[0m\u001b[0;34m,\u001b[0m \u001b[0mvalue\u001b[0m\u001b[0;34m)\u001b[0m\u001b[0;34m:\u001b[0m\u001b[0;34m\u001b[0m\u001b[0;34m\u001b[0m\u001b[0m\n\u001b[1;32m     22\u001b[0m     \u001b[0;32mif\u001b[0m \u001b[0mvalue\u001b[0m \u001b[0;34m<=\u001b[0m \u001b[0;36m0\u001b[0m\u001b[0;34m:\u001b[0m\u001b[0;34m\u001b[0m\u001b[0;34m\u001b[0m\u001b[0m\n\u001b[0;32m---> 23\u001b[0;31m       \u001b[0;32mraise\u001b[0m \u001b[0mTypeError\u001b[0m\u001b[0;34m(\u001b[0m\u001b[0;34m\"길이는 양의 숫자여야 합니다.\"\u001b[0m\u001b[0;34m)\u001b[0m\u001b[0;34m\u001b[0m\u001b[0;34m\u001b[0m\u001b[0m\n\u001b[0m\u001b[1;32m     24\u001b[0m \u001b[0;34m\u001b[0m\u001b[0m\n\u001b[1;32m     25\u001b[0m       \u001b[0mself\u001b[0m\u001b[0;34m.\u001b[0m\u001b[0m___radius\u001b[0m \u001b[0;34m=\u001b[0m \u001b[0mvalue\u001b[0m\u001b[0;34m\u001b[0m\u001b[0;34m\u001b[0m\u001b[0m\n",
            "\u001b[0;31mTypeError\u001b[0m: 길이는 양의 숫자여야 합니다."
          ]
        }
      ]
    },
    {
      "cell_type": "markdown",
      "source": [
        "상속"
      ],
      "metadata": {
        "id": "SR5DZNPHkJuh"
      }
    },
    {
      "cell_type": "code",
      "source": [
        "# 상속의 활용\n",
        "\n",
        "# 부모 클래스를 선언\n",
        "class Parent:\n",
        "  def __init__(self):\n",
        "    self.value = \"테스트\"\n",
        "    print(\"Parent 클래스의 __init()__ 메소드가 호출되었습니다.\")\n",
        "  \n",
        "  def test(self):\n",
        "    print(\"Parent 클래스의 test() 메소드입니다.\")\n",
        "\n",
        "# 자식 클래스를 선언\n",
        "class Child(Parent): # Parent class를 상속받음.\n",
        "  def __init__(self):\n",
        "    Parent.__init__(self) # Parent class 변수를 가져온듯\n",
        "    print(\"Child 클래스의 __init()__ 메소드가 호출되었습니다.\")\n",
        "\n",
        "child = Child()\n",
        "child.test() # Parent class 에서 상속받은 함수\n",
        "print(child.value) # Parent class 에서 상속받은 변수"
      ],
      "metadata": {
        "colab": {
          "base_uri": "https://localhost:8080/"
        },
        "id": "btiutaJdkCl6",
        "outputId": "e423d6be-5e5f-4ec8-9e36-7c100f92a76b"
      },
      "execution_count": 50,
      "outputs": [
        {
          "output_type": "stream",
          "name": "stdout",
          "text": [
            "Parent 클래스의 __init()__ 메소드가 호출되었습니다.\n",
            "Child 클래스의 __init()__ 메소드가 호출되었습니다.\n",
            "Parent 클래스의 test() 메소드입니다.\n",
            "테스트\n"
          ]
        }
      ]
    },
    {
      "cell_type": "markdown",
      "source": [
        "예외 클래스 만들기: 상속을 통해서, 기존에 있는 Exception class를 조금 수정해서 CustomException class 생성"
      ],
      "metadata": {
        "id": "KGRo1S_Rnd3_"
      }
    },
    {
      "cell_type": "code",
      "source": [
        "# 자식 클래스로써 부모의 함수 재정의(오버라이드)하기\n",
        "\n",
        "class CustomException(Exception):\n",
        "  def __init__(self):\n",
        "    Exception.__init__(self) # 변수들 상속받아오기\n",
        "    print(\" # 내가 만든 오류가 생성되었어요! #\")\n",
        "  def __str__(self):\n",
        "    return \"오류가 발생했어요\"\n",
        "\n",
        "raise CustomException"
      ],
      "metadata": {
        "colab": {
          "base_uri": "https://localhost:8080/",
          "height": 226
        },
        "id": "OUrBWnRVnJwY",
        "outputId": "e5253693-b2f7-42b4-cd72-1665e6762bd8"
      },
      "execution_count": 52,
      "outputs": [
        {
          "output_type": "stream",
          "name": "stdout",
          "text": [
            " # 내가 만든 오류가 생성되었어요! #\n"
          ]
        },
        {
          "output_type": "error",
          "ename": "CustomException",
          "evalue": "ignored",
          "traceback": [
            "\u001b[0;31m---------------------------------------------------------------------------\u001b[0m",
            "\u001b[0;31mCustomException\u001b[0m                           Traceback (most recent call last)",
            "\u001b[0;32m<ipython-input-52-d0a14cb2a6c3>\u001b[0m in \u001b[0;36m<module>\u001b[0;34m()\u001b[0m\n\u001b[1;32m      8\u001b[0m     \u001b[0;32mreturn\u001b[0m \u001b[0;34m\"오류가 발생했어요\"\u001b[0m\u001b[0;34m\u001b[0m\u001b[0;34m\u001b[0m\u001b[0m\n\u001b[1;32m      9\u001b[0m \u001b[0;34m\u001b[0m\u001b[0m\n\u001b[0;32m---> 10\u001b[0;31m \u001b[0;32mraise\u001b[0m \u001b[0mCustomException\u001b[0m\u001b[0;34m\u001b[0m\u001b[0;34m\u001b[0m\u001b[0m\n\u001b[0m",
            "\u001b[0;31mCustomException\u001b[0m: 오류가 발생했어요"
          ]
        }
      ]
    },
    {
      "cell_type": "code",
      "source": [
        "# 자식 클래스로써 부모에 없는 새로운 함수 정의하기\n",
        "\n",
        "class CustomException(Exception):\n",
        "  def __init__(self, message, value):\n",
        "    Exception.__init__(self)\n",
        "    self.message = message\n",
        "    self.value = value\n",
        "\n",
        "  def __str__(self):\n",
        "    return self.message\n",
        "\n",
        "  def print(self):\n",
        "    print(\"## 오류 정보 ##\")\n",
        "    print(\"메시지:\", self.message)\n",
        "    print(\"값:\", self.value)\n",
        "\n",
        "# 예외 발생시키기\n",
        "try:\n",
        "  raise CustomException(\"딱히 이유 없음\", 273)\n",
        "except CustomException as e:\n",
        "  e.print()"
      ],
      "metadata": {
        "colab": {
          "base_uri": "https://localhost:8080/"
        },
        "id": "XRN8fSTLqqV3",
        "outputId": "ea0cb303-b966-4006-fe56-969f2984a778"
      },
      "execution_count": 56,
      "outputs": [
        {
          "output_type": "stream",
          "name": "stdout",
          "text": [
            "## 오류 정보 ##\n",
            "메시지: 딱히 이유 없음\n",
            "값: 273\n"
          ]
        }
      ]
    },
    {
      "cell_type": "code",
      "source": [
        ""
      ],
      "metadata": {
        "id": "HqNx6CZLre77"
      },
      "execution_count": null,
      "outputs": []
    }
  ]
}