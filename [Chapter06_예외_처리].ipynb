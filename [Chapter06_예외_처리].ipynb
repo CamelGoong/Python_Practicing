{
  "nbformat": 4,
  "nbformat_minor": 0,
  "metadata": {
    "colab": {
      "name": "[Chapter06.예외 처리].ipynb",
      "provenance": [],
      "authorship_tag": "ABX9TyNLH9UF7LU8OSpONXicBgZm",
      "include_colab_link": true
    },
    "kernelspec": {
      "name": "python3",
      "display_name": "Python 3"
    },
    "language_info": {
      "name": "python"
    }
  },
  "cells": [
    {
      "cell_type": "markdown",
      "metadata": {
        "id": "view-in-github",
        "colab_type": "text"
      },
      "source": [
        "<a href=\"https://colab.research.google.com/github/CamelGoong/Python_practicing/blob/main/%5BChapter06_%EC%98%88%EC%99%B8_%EC%B2%98%EB%A6%AC%5D.ipynb\" target=\"_parent\"><img src=\"https://colab.research.google.com/assets/colab-badge.svg\" alt=\"Open In Colab\"/></a>"
      ]
    },
    {
      "cell_type": "markdown",
      "source": [
        "# 06-1 구문 오류와 예외"
      ],
      "metadata": {
        "id": "4Ib4dQo6IecC"
      }
    },
    {
      "cell_type": "markdown",
      "source": [
        "예외처리\n",
        "\n",
        "\n",
        "1.   조건문\n",
        "2.   Try 구문\n",
        "\n"
      ],
      "metadata": {
        "id": "8brEICGhWL2l"
      }
    },
    {
      "cell_type": "code",
      "execution_count": 1,
      "metadata": {
        "id": "5g9rzhfNIYN-",
        "colab": {
          "base_uri": "https://localhost:8080/"
        },
        "outputId": "d6c1bd41-6980-44c5-a66b-632a196d1499"
      },
      "outputs": [
        {
          "output_type": "stream",
          "name": "stdout",
          "text": [
            "정수입력 > 8.1\n",
            "정수를 입력하지 않았습니다.\n"
          ]
        }
      ],
      "source": [
        "# 방법 1) 조건문으로 예외 처리하기\n",
        "\n",
        "user_input_a = input(\"정수입력 > \")\n",
        "\n",
        "if user_input_a.isdigit():\n",
        "\n",
        "  number_input_a = int(user_input_a)\n",
        "\n",
        "  print(\"원의 반지름:\", number_input_a)\n",
        "  print(\"원의 둘레:\", 2 * 3.14 * number_input_a)\n",
        "  print(\"원의 넓이:\", 3.14 * number_input_a ** 2)\n",
        "\n",
        "else:\n",
        "  print(\"정수를 입력하지 않았습니다.\")"
      ]
    },
    {
      "cell_type": "code",
      "source": [
        "# 방법 2) try except 구문으로 예외 처리하기\n",
        "\n",
        "try:\n",
        "  user_input_a = input(\"정수입력 > \")\n",
        "  number_input_a = int(user_input_a)\n",
        "\n",
        "  print(\"원의 반지름:\", number_input_a)\n",
        "  print(\"원의 둘레:\", 2 * 3.14 * number_input_a)\n",
        "  print(\"원의 넓이:\", 3.14 * number_input_a ** 2)\n",
        "\n",
        "except:\n",
        "  print(\"무언가 잘못되었습니다.\")\n"
      ],
      "metadata": {
        "colab": {
          "base_uri": "https://localhost:8080/"
        },
        "id": "A9B2YVMnYM5Y",
        "outputId": "32dba7b9-0502-4f2f-8277-32e6088b55fc"
      },
      "execution_count": 3,
      "outputs": [
        {
          "output_type": "stream",
          "name": "stdout",
          "text": [
            "정수입력 > 8.1\n",
            "무언가 잘못되었습니다.\n"
          ]
        }
      ]
    },
    {
      "cell_type": "code",
      "source": [
        "# 방법 3) try except else 구문으로 예외 처리하기\n",
        "\n",
        "try:\n",
        "  user_input_a = input(\"정수입력 > \")\n",
        "  number_input_a = int(user_input_a)\n",
        "\n",
        "except:\n",
        "  print(\"정수를 입력하지 않았습니다.\")\n",
        "\n",
        "else:\n",
        "  print(\"원의 반지름:\", number_input_a)\n",
        "  print(\"원의 둘레:\", 2 * 3.14 * number_input_a)\n",
        "  print(\"원의 넓이:\", 3.14 * number_input_a ** 2)"
      ],
      "metadata": {
        "colab": {
          "base_uri": "https://localhost:8080/"
        },
        "id": "jpIF4UbZY8zF",
        "outputId": "e77978c9-4d1b-448a-e38c-7821d0f484ec"
      },
      "execution_count": 5,
      "outputs": [
        {
          "output_type": "stream",
          "name": "stdout",
          "text": [
            "정수입력 > 3\n",
            "원의 반지름: 3\n",
            "원의 둘레: 18.84\n",
            "원의 넓이: 28.26\n"
          ]
        }
      ]
    },
    {
      "cell_type": "code",
      "source": [
        "# 방법 4) try except else finally 구문으로 예외 처리하기\n",
        "try:\n",
        "  user_input_a = input(\"정수입력 > \")\n",
        "  number_input_a = int(user_input_a)\n",
        "\n",
        "except:\n",
        "  print(\"정수를 입력하지 않았습니다.\")\n",
        "\n",
        "else:\n",
        "  print(\"원의 반지름:\", number_input_a)\n",
        "  print(\"원의 둘레:\", 2 * 3.14 * number_input_a)\n",
        "  print(\"원의 넓이:\", 3.14 * number_input_a ** 2)\n",
        "\n",
        "finally:\n",
        "  print(\"일단 프로그램이 어떻게든 실행이 끝났습니다 ㅠㅡㅠ\")"
      ],
      "metadata": {
        "colab": {
          "base_uri": "https://localhost:8080/"
        },
        "id": "RhlT9QMzZ2PX",
        "outputId": "6be11869-14e6-4be0-aa63-4e6ca1be3e4f"
      },
      "execution_count": 6,
      "outputs": [
        {
          "output_type": "stream",
          "name": "stdout",
          "text": [
            "정수입력 > 15\n",
            "원의 반지름: 15\n",
            "원의 둘레: 94.2\n",
            "원의 넓이: 706.5\n",
            "일단 프로그램이 어떻게든 실행이 끝났습니다 ㅠㅡㅠ\n"
          ]
        }
      ]
    },
    {
      "cell_type": "markdown",
      "source": [
        "try 구문 내부에서 return 키워드를 사용하는 경우"
      ],
      "metadata": {
        "id": "TpTdEpB8blN_"
      }
    },
    {
      "cell_type": "code",
      "source": [
        "def test():\n",
        "  print(\"test() 함수의 첫 줄입니다.\")\n",
        "  try:\n",
        "    print(\"try 구문이 실행되었습니다.\")\n",
        "    return\n",
        "    print(\"try 구문의 return 키워드 뒤입니다.\")\n",
        "\n",
        "  except:\n",
        "    print(\"except 구문이 실행되었습니다.\")\n",
        "  \n",
        "  else:\n",
        "    print(\"else 구문이 실행되었습니다.\")\n",
        "\n",
        "  finally:\n",
        "    print(\"finally 구문이 실행되었습니다.\")\n",
        "  print(\"test() 함수의 마지막 줄입니다.\")\n",
        "  \n",
        "test()"
      ],
      "metadata": {
        "colab": {
          "base_uri": "https://localhost:8080/"
        },
        "id": "xjw8mud5apJz",
        "outputId": "8364eef3-9f7a-4c25-b4b6-5ed7b4c1ff8c"
      },
      "execution_count": 8,
      "outputs": [
        {
          "output_type": "stream",
          "name": "stdout",
          "text": [
            "test() 함수의 첫 줄입니다.\n",
            "try 구문이 실행되었습니다.\n",
            "finally 구문이 실행되었습니다.\n"
          ]
        }
      ]
    },
    {
      "cell_type": "markdown",
      "source": [
        "# 06-2 예외 고급"
      ],
      "metadata": {
        "id": "RzTZvIfLcsp_"
      }
    },
    {
      "cell_type": "markdown",
      "source": [
        "프로그래밍 중 예외가 발생하면, 예외와 관련된 정보가 생기고, 이러한 예외 정보는 예외 객체에 저장됨."
      ],
      "metadata": {
        "id": "wcVVEj2CdKGE"
      }
    },
    {
      "cell_type": "code",
      "source": [
        "# 예외 객체\n",
        "\n",
        "try:\n",
        "  number_input_a = int(input(\"정수 입력 > \"))\n",
        "\n",
        "  print(\"원의 반지름: \", number_input_a)\n",
        "  print(\"원의 둘레: \", 2 * 3.14 * number_input_a)\n",
        "  print(\"원의 넓이: \", 3.14 * number_input_a ** 2)\n",
        "\n",
        "except Exception as exception:\n",
        "  print(\"type(exception): \", type(exception))\n",
        "  print(\"exception: \", exception)"
      ],
      "metadata": {
        "colab": {
          "base_uri": "https://localhost:8080/"
        },
        "id": "hdt3BD0pcTV4",
        "outputId": "d33839ba-5552-4432-8bc2-d965ade0b13e"
      },
      "execution_count": 9,
      "outputs": [
        {
          "output_type": "stream",
          "name": "stdout",
          "text": [
            "정수 입력 > 1.1\n",
            "type(exception):  <class 'ValueError'>\n",
            "exception:  invalid literal for int() with base 10: '1.1'\n"
          ]
        }
      ]
    },
    {
      "cell_type": "markdown",
      "source": [
        "예외 구분하기"
      ],
      "metadata": {
        "id": "KdMGtNjogATn"
      }
    },
    {
      "cell_type": "code",
      "source": [
        "# 여러 가지 예외가 발생할 수 있는 코드\n",
        "\n",
        "list_number = [52, 273, 23, 72, 100]\n",
        "\n",
        "try:\n",
        "  number_input_a = int(input(\"정수 입력 >\"))\n",
        "\n",
        "  print(\"{}번째 요소: {}\".format(number_input_a, list_number[number_input_a]))\n",
        "\n",
        "except Exception as exception:\n",
        "  print(\"type(exception): \", type(exception))\n",
        "  print(\"exception: \", exception)"
      ],
      "metadata": {
        "colab": {
          "base_uri": "https://localhost:8080/"
        },
        "id": "5j8rPCoheNyH",
        "outputId": "5f72efec-14ac-4933-b580-216deeb830e6"
      },
      "execution_count": 12,
      "outputs": [
        {
          "output_type": "stream",
          "name": "stdout",
          "text": [
            "정수 입력 >2\n",
            "2번째 요소: 23\n"
          ]
        }
      ]
    },
    {
      "cell_type": "code",
      "source": [
        "# 예외 구문과 예외 객체 구분\n",
        "\n",
        "list_number = [52, 273, 23, 72, 100]\n",
        "\n",
        "try:\n",
        "  number_input_a = int(input(\"정수 입력 >\"))\n",
        "\n",
        "  print(\"{}번째 요소: {}\".format(number_input_a, list_number[number_input_a]))\n",
        "\n",
        "except ValueError as exception:\n",
        "  print(\"정수를 입력해주세요.\")\n",
        "  print(\"exception: \", exception)\n",
        "\n",
        "except IndexError as exception:\n",
        "  print(\"리스트의 인덱스를 벗어났어요.\")\n",
        "  print(\"exception: \", exception)"
      ],
      "metadata": {
        "colab": {
          "base_uri": "https://localhost:8080/"
        },
        "id": "AVT8JOqbgtkO",
        "outputId": "190cb48a-4f4f-409f-87ff-bb5d963c5657"
      },
      "execution_count": 14,
      "outputs": [
        {
          "output_type": "stream",
          "name": "stdout",
          "text": [
            "정수 입력 >11\n",
            "리스트의 인덱스를 벗어났어요.\n",
            "exception:  list index out of range\n"
          ]
        }
      ]
    },
    {
      "cell_type": "markdown",
      "source": [
        "모든 예외 잡기"
      ],
      "metadata": {
        "id": "5orcOJxRieE_"
      }
    },
    {
      "cell_type": "code",
      "source": [
        "list_number = [52, 273, 23, 72, 100]\n",
        "\n",
        "try:\n",
        "  number_input_a = int(input(\"정수 입력 >\"))\n",
        "\n",
        "  print(\"{}번째 요소: {}\".format(number_input_a, list_number[number_input_a]))\n",
        "  예외.발생해주세요()\n",
        "\n",
        "except ValueError as exception:\n",
        "  print(\"정수를 입력해주세요.\")\n",
        "  print(\"exception: \", exception)\n",
        "\n",
        "except IndexError as exception:\n",
        "  print(\"리스트의 인덱스를 벗어났어요.\")\n",
        "  print(\"exception: \", exception)\n",
        "\n",
        "except Exception as exception:\n",
        "  print(\"미리 파악하지 못한 예외가 발생했습니다.\")\n",
        "  print(\"type(exception)\", exception)"
      ],
      "metadata": {
        "colab": {
          "base_uri": "https://localhost:8080/"
        },
        "id": "xwySs4iPiQqW",
        "outputId": "f8885dea-4b71-4adc-858e-629a5710cd4a"
      },
      "execution_count": 16,
      "outputs": [
        {
          "output_type": "stream",
          "name": "stdout",
          "text": [
            "정수 입력 >1\n",
            "1번째 요소: 273\n",
            "미리 파악하지 못한 예외가 발생했습니다.\n",
            "type(exception) name '예외' is not defined\n"
          ]
        }
      ]
    },
    {
      "cell_type": "code",
      "source": [
        ""
      ],
      "metadata": {
        "id": "ZQjpDWBCjBqr"
      },
      "execution_count": null,
      "outputs": []
    }
  ]
}