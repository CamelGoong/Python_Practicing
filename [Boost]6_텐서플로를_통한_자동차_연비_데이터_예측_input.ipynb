{
  "cells": [
    {
      "cell_type": "markdown",
      "metadata": {
        "id": "view-in-github",
        "colab_type": "text"
      },
      "source": [
        "<a href=\"https://colab.research.google.com/github/CamelGoong/Python_Practicing/blob/main/%5BBoost%5D6_%ED%85%90%EC%84%9C%ED%94%8C%EB%A1%9C%EB%A5%BC_%ED%86%B5%ED%95%9C_%EC%9E%90%EB%8F%99%EC%B0%A8_%EC%97%B0%EB%B9%84_%EB%8D%B0%EC%9D%B4%ED%84%B0_%EC%98%88%EC%B8%A1_input.ipynb\" target=\"_parent\"><img src=\"https://colab.research.google.com/assets/colab-badge.svg\" alt=\"Open In Colab\"/></a>"
      ]
    },
    {
      "cell_type": "markdown",
      "metadata": {
        "id": "TcPUGBPuNkVR"
      },
      "source": [
        "## 텐서플로를 통한 자동차 연비 예측하기\n",
        "* 참고 : [자동차 연비 예측하기: 회귀  |  TensorFlow Core](https://www.tensorflow.org/tutorials/keras/regression)"
      ]
    },
    {
      "cell_type": "markdown",
      "metadata": {
        "id": "TWMwzkiqNkVW"
      },
      "source": [
        "## 필요 도구 가져오기"
      ]
    },
    {
      "cell_type": "code",
      "execution_count": 1,
      "metadata": {
        "id": "j6SGYqc-NkVX"
      },
      "outputs": [],
      "source": [
        "# 데이터 분석을 위한 pandas, 시각화를 위한 seaborn 불러오기\n",
        "import pandas as pd\n",
        "import seaborn as sns"
      ]
    },
    {
      "cell_type": "markdown",
      "metadata": {
        "id": "tnOGDCHMNkVY"
      },
      "source": [
        "## 데이터셋 로드"
      ]
    },
    {
      "cell_type": "code",
      "execution_count": 5,
      "metadata": {
        "id": "fCwZOjo3NkVY",
        "colab": {
          "base_uri": "https://localhost:8080/"
        },
        "outputId": "db52358c-ae8b-4742-acbf-b2d83884281d"
      },
      "outputs": [
        {
          "output_type": "execute_result",
          "data": {
            "text/plain": [
              "(398, 9)"
            ]
          },
          "metadata": {},
          "execution_count": 5
        }
      ],
      "source": [
        "# 자동차연비 데이터셋인 mpg 데이터셋을 불러옵니다.\n",
        "df = sns.load_dataset(\"mpg\")\n",
        "df.shape"
      ]
    },
    {
      "cell_type": "markdown",
      "metadata": {
        "id": "7glooEytNkVZ"
      },
      "source": [
        "## 결측치 확인"
      ]
    },
    {
      "cell_type": "code",
      "execution_count": 4,
      "metadata": {
        "id": "HkraVR49NkVa",
        "colab": {
          "base_uri": "https://localhost:8080/"
        },
        "outputId": "5e6b5474-29b4-419f-f4ad-89f34c3684fb"
      },
      "outputs": [
        {
          "output_type": "execute_result",
          "data": {
            "text/plain": [
              "mpg             0\n",
              "cylinders       0\n",
              "displacement    0\n",
              "horsepower      6\n",
              "weight          0\n",
              "acceleration    0\n",
              "model_year      0\n",
              "origin          0\n",
              "name            0\n",
              "dtype: int64"
            ]
          },
          "metadata": {},
          "execution_count": 4
        }
      ],
      "source": [
        "# 결측치의 합계 구하기\n",
        "df.isnull().sum()"
      ]
    },
    {
      "cell_type": "markdown",
      "metadata": {
        "id": "mUzfF4InNkVb"
      },
      "source": [
        "## 결측치 제거"
      ]
    },
    {
      "cell_type": "code",
      "execution_count": 8,
      "metadata": {
        "id": "iSM9S1DdNkVc",
        "colab": {
          "base_uri": "https://localhost:8080/"
        },
        "outputId": "d0d39dda-7a87-4c83-af6e-23fabce5ff88"
      },
      "outputs": [
        {
          "output_type": "execute_result",
          "data": {
            "text/plain": [
              "(392, 9)"
            ]
          },
          "metadata": {},
          "execution_count": 8
        }
      ],
      "source": [
        "# dropna로 결측치를 제거합니다.\n",
        "df = df.dropna() # 꼭 다시 넣어주어야 함.\n",
        "df.shape"
      ]
    },
    {
      "cell_type": "markdown",
      "metadata": {
        "id": "qTHjnRtBNkVc"
      },
      "source": [
        "## 수치 데이터만 가져오기\n",
        "* 머신러닝이나 딥러닝 모델은 내부에서 수치계산을 하기 때문에 **숫자**가 아닌 데이터를 넣어주면 모델이 학습과 예측을 할 수 없습니다."
      ]
    },
    {
      "cell_type": "code",
      "execution_count": 10,
      "metadata": {
        "id": "UMuUHkejNkVd",
        "colab": {
          "base_uri": "https://localhost:8080/"
        },
        "outputId": "166b6357-0e1d-4423-d663-2f1b8927b128"
      },
      "outputs": [
        {
          "output_type": "execute_result",
          "data": {
            "text/plain": [
              "(392, 7)"
            ]
          },
          "metadata": {},
          "execution_count": 10
        }
      ],
      "source": [
        "# select_dtypes 를 통해 object 타입을 제외하고 가져옵니다.\n",
        "df = df.select_dtypes(exclude = object) # origin하고 name column 제거\n",
        "df.shape"
      ]
    },
    {
      "cell_type": "markdown",
      "metadata": {
        "id": "uzmQOLjiNkVd"
      },
      "source": [
        "## 전체 데이터에 대한 기술 통계 확인"
      ]
    },
    {
      "cell_type": "code",
      "execution_count": 11,
      "metadata": {
        "id": "P1HpleO4NkVd",
        "colab": {
          "base_uri": "https://localhost:8080/",
          "height": 300
        },
        "outputId": "cf666175-bcca-4e12-e2a6-88c42df22ef7"
      },
      "outputs": [
        {
          "output_type": "execute_result",
          "data": {
            "text/html": [
              "\n",
              "  <div id=\"df-e73ff589-7c77-4e63-bdd1-5735ca3d9f52\">\n",
              "    <div class=\"colab-df-container\">\n",
              "      <div>\n",
              "<style scoped>\n",
              "    .dataframe tbody tr th:only-of-type {\n",
              "        vertical-align: middle;\n",
              "    }\n",
              "\n",
              "    .dataframe tbody tr th {\n",
              "        vertical-align: top;\n",
              "    }\n",
              "\n",
              "    .dataframe thead th {\n",
              "        text-align: right;\n",
              "    }\n",
              "</style>\n",
              "<table border=\"1\" class=\"dataframe\">\n",
              "  <thead>\n",
              "    <tr style=\"text-align: right;\">\n",
              "      <th></th>\n",
              "      <th>mpg</th>\n",
              "      <th>cylinders</th>\n",
              "      <th>displacement</th>\n",
              "      <th>horsepower</th>\n",
              "      <th>weight</th>\n",
              "      <th>acceleration</th>\n",
              "      <th>model_year</th>\n",
              "    </tr>\n",
              "  </thead>\n",
              "  <tbody>\n",
              "    <tr>\n",
              "      <th>count</th>\n",
              "      <td>392.000000</td>\n",
              "      <td>392.000000</td>\n",
              "      <td>392.000000</td>\n",
              "      <td>392.000000</td>\n",
              "      <td>392.000000</td>\n",
              "      <td>392.000000</td>\n",
              "      <td>392.000000</td>\n",
              "    </tr>\n",
              "    <tr>\n",
              "      <th>mean</th>\n",
              "      <td>23.445918</td>\n",
              "      <td>5.471939</td>\n",
              "      <td>194.411990</td>\n",
              "      <td>104.469388</td>\n",
              "      <td>2977.584184</td>\n",
              "      <td>15.541327</td>\n",
              "      <td>75.979592</td>\n",
              "    </tr>\n",
              "    <tr>\n",
              "      <th>std</th>\n",
              "      <td>7.805007</td>\n",
              "      <td>1.705783</td>\n",
              "      <td>104.644004</td>\n",
              "      <td>38.491160</td>\n",
              "      <td>849.402560</td>\n",
              "      <td>2.758864</td>\n",
              "      <td>3.683737</td>\n",
              "    </tr>\n",
              "    <tr>\n",
              "      <th>min</th>\n",
              "      <td>9.000000</td>\n",
              "      <td>3.000000</td>\n",
              "      <td>68.000000</td>\n",
              "      <td>46.000000</td>\n",
              "      <td>1613.000000</td>\n",
              "      <td>8.000000</td>\n",
              "      <td>70.000000</td>\n",
              "    </tr>\n",
              "    <tr>\n",
              "      <th>25%</th>\n",
              "      <td>17.000000</td>\n",
              "      <td>4.000000</td>\n",
              "      <td>105.000000</td>\n",
              "      <td>75.000000</td>\n",
              "      <td>2225.250000</td>\n",
              "      <td>13.775000</td>\n",
              "      <td>73.000000</td>\n",
              "    </tr>\n",
              "    <tr>\n",
              "      <th>50%</th>\n",
              "      <td>22.750000</td>\n",
              "      <td>4.000000</td>\n",
              "      <td>151.000000</td>\n",
              "      <td>93.500000</td>\n",
              "      <td>2803.500000</td>\n",
              "      <td>15.500000</td>\n",
              "      <td>76.000000</td>\n",
              "    </tr>\n",
              "    <tr>\n",
              "      <th>75%</th>\n",
              "      <td>29.000000</td>\n",
              "      <td>8.000000</td>\n",
              "      <td>275.750000</td>\n",
              "      <td>126.000000</td>\n",
              "      <td>3614.750000</td>\n",
              "      <td>17.025000</td>\n",
              "      <td>79.000000</td>\n",
              "    </tr>\n",
              "    <tr>\n",
              "      <th>max</th>\n",
              "      <td>46.600000</td>\n",
              "      <td>8.000000</td>\n",
              "      <td>455.000000</td>\n",
              "      <td>230.000000</td>\n",
              "      <td>5140.000000</td>\n",
              "      <td>24.800000</td>\n",
              "      <td>82.000000</td>\n",
              "    </tr>\n",
              "  </tbody>\n",
              "</table>\n",
              "</div>\n",
              "      <button class=\"colab-df-convert\" onclick=\"convertToInteractive('df-e73ff589-7c77-4e63-bdd1-5735ca3d9f52')\"\n",
              "              title=\"Convert this dataframe to an interactive table.\"\n",
              "              style=\"display:none;\">\n",
              "        \n",
              "  <svg xmlns=\"http://www.w3.org/2000/svg\" height=\"24px\"viewBox=\"0 0 24 24\"\n",
              "       width=\"24px\">\n",
              "    <path d=\"M0 0h24v24H0V0z\" fill=\"none\"/>\n",
              "    <path d=\"M18.56 5.44l.94 2.06.94-2.06 2.06-.94-2.06-.94-.94-2.06-.94 2.06-2.06.94zm-11 1L8.5 8.5l.94-2.06 2.06-.94-2.06-.94L8.5 2.5l-.94 2.06-2.06.94zm10 10l.94 2.06.94-2.06 2.06-.94-2.06-.94-.94-2.06-.94 2.06-2.06.94z\"/><path d=\"M17.41 7.96l-1.37-1.37c-.4-.4-.92-.59-1.43-.59-.52 0-1.04.2-1.43.59L10.3 9.45l-7.72 7.72c-.78.78-.78 2.05 0 2.83L4 21.41c.39.39.9.59 1.41.59.51 0 1.02-.2 1.41-.59l7.78-7.78 2.81-2.81c.8-.78.8-2.07 0-2.86zM5.41 20L4 18.59l7.72-7.72 1.47 1.35L5.41 20z\"/>\n",
              "  </svg>\n",
              "      </button>\n",
              "      \n",
              "  <style>\n",
              "    .colab-df-container {\n",
              "      display:flex;\n",
              "      flex-wrap:wrap;\n",
              "      gap: 12px;\n",
              "    }\n",
              "\n",
              "    .colab-df-convert {\n",
              "      background-color: #E8F0FE;\n",
              "      border: none;\n",
              "      border-radius: 50%;\n",
              "      cursor: pointer;\n",
              "      display: none;\n",
              "      fill: #1967D2;\n",
              "      height: 32px;\n",
              "      padding: 0 0 0 0;\n",
              "      width: 32px;\n",
              "    }\n",
              "\n",
              "    .colab-df-convert:hover {\n",
              "      background-color: #E2EBFA;\n",
              "      box-shadow: 0px 1px 2px rgba(60, 64, 67, 0.3), 0px 1px 3px 1px rgba(60, 64, 67, 0.15);\n",
              "      fill: #174EA6;\n",
              "    }\n",
              "\n",
              "    [theme=dark] .colab-df-convert {\n",
              "      background-color: #3B4455;\n",
              "      fill: #D2E3FC;\n",
              "    }\n",
              "\n",
              "    [theme=dark] .colab-df-convert:hover {\n",
              "      background-color: #434B5C;\n",
              "      box-shadow: 0px 1px 3px 1px rgba(0, 0, 0, 0.15);\n",
              "      filter: drop-shadow(0px 1px 2px rgba(0, 0, 0, 0.3));\n",
              "      fill: #FFFFFF;\n",
              "    }\n",
              "  </style>\n",
              "\n",
              "      <script>\n",
              "        const buttonEl =\n",
              "          document.querySelector('#df-e73ff589-7c77-4e63-bdd1-5735ca3d9f52 button.colab-df-convert');\n",
              "        buttonEl.style.display =\n",
              "          google.colab.kernel.accessAllowed ? 'block' : 'none';\n",
              "\n",
              "        async function convertToInteractive(key) {\n",
              "          const element = document.querySelector('#df-e73ff589-7c77-4e63-bdd1-5735ca3d9f52');\n",
              "          const dataTable =\n",
              "            await google.colab.kernel.invokeFunction('convertToInteractive',\n",
              "                                                     [key], {});\n",
              "          if (!dataTable) return;\n",
              "\n",
              "          const docLinkHtml = 'Like what you see? Visit the ' +\n",
              "            '<a target=\"_blank\" href=https://colab.research.google.com/notebooks/data_table.ipynb>data table notebook</a>'\n",
              "            + ' to learn more about interactive tables.';\n",
              "          element.innerHTML = '';\n",
              "          dataTable['output_type'] = 'display_data';\n",
              "          await google.colab.output.renderOutput(dataTable, element);\n",
              "          const docLink = document.createElement('div');\n",
              "          docLink.innerHTML = docLinkHtml;\n",
              "          element.appendChild(docLink);\n",
              "        }\n",
              "      </script>\n",
              "    </div>\n",
              "  </div>\n",
              "  "
            ],
            "text/plain": [
              "              mpg   cylinders  ...  acceleration  model_year\n",
              "count  392.000000  392.000000  ...    392.000000  392.000000\n",
              "mean    23.445918    5.471939  ...     15.541327   75.979592\n",
              "std      7.805007    1.705783  ...      2.758864    3.683737\n",
              "min      9.000000    3.000000  ...      8.000000   70.000000\n",
              "25%     17.000000    4.000000  ...     13.775000   73.000000\n",
              "50%     22.750000    4.000000  ...     15.500000   76.000000\n",
              "75%     29.000000    8.000000  ...     17.025000   79.000000\n",
              "max     46.600000    8.000000  ...     24.800000   82.000000\n",
              "\n",
              "[8 rows x 7 columns]"
            ]
          },
          "metadata": {},
          "execution_count": 11
        }
      ],
      "source": [
        "# describe 를 통해 기술 통계값을 확인합니다.\n",
        "df.describe(include = 'all')"
      ]
    },
    {
      "cell_type": "markdown",
      "metadata": {
        "id": "fDn7lCQ3NkVe"
      },
      "source": [
        "## 데이터셋 나누기"
      ]
    },
    {
      "cell_type": "code",
      "execution_count": 16,
      "metadata": {
        "id": "beqikvJ8NkVe",
        "colab": {
          "base_uri": "https://localhost:8080/"
        },
        "outputId": "7c67f3ce-151f-48dc-85a8-21494bb307e2"
      },
      "outputs": [
        {
          "output_type": "execute_result",
          "data": {
            "text/plain": [
              "(314, 7)"
            ]
          },
          "metadata": {},
          "execution_count": 16
        }
      ],
      "source": [
        "# 전체 데이터프레임에서 df, train, test를 분리합니다.\n",
        "# train_dataset : 학습에 사용 (예: 기출문제)\n",
        "# test_dataset : 실제 예측에 사용 (예 : 실전문제)\n",
        "# 기출문제로 공부하고 실전 시험을 보는 과정과 유사합니다.\n",
        "\n",
        "# 8:2의 비율로 분리\n",
        "train_dataset = df.sample(frac = 0.8, random_state = 42) # frac은 train_dataset의 비율\n",
        "train_dataset.shape"
      ]
    },
    {
      "cell_type": "code",
      "source": [
        "test_dataset = df.drop(train_dataset.index) # 다시 df에서 test_dataset을 random하게 가져오면, train_dataset과 겹칠 수 있기 때문에, train_dataset에 해당되는 index의 data를 df에서 제거\n",
        "test_dataset.shape"
      ],
      "metadata": {
        "colab": {
          "base_uri": "https://localhost:8080/"
        },
        "id": "VKf6FbJgQb0t",
        "outputId": "41052d2f-06de-4685-ee46-7d9f59bc6ac9"
      },
      "execution_count": 17,
      "outputs": [
        {
          "output_type": "execute_result",
          "data": {
            "text/plain": [
              "(78, 7)"
            ]
          },
          "metadata": {},
          "execution_count": 17
        }
      ]
    },
    {
      "cell_type": "code",
      "execution_count": 18,
      "metadata": {
        "id": "DUkhgQHTNkVf",
        "colab": {
          "base_uri": "https://localhost:8080/"
        },
        "outputId": "517119e4-901b-4171-c0f7-cd1ebab10c08"
      },
      "outputs": [
        {
          "output_type": "execute_result",
          "data": {
            "text/plain": [
              "(314,)"
            ]
          },
          "metadata": {},
          "execution_count": 18
        }
      ],
      "source": [
        "# train_dataset, test_dataset 에서 label(정답) 값을 꺼내 label 을 따로 생성합니다.\n",
        "# 문제에서 정답을 분리하는 과정입니다.\n",
        "# train_labels : train_dataset(예: 기출문제) 에서 정답을 꺼내서 분리합니다.\n",
        "# test_labels : test_labels(예: 실전문제) 에서 정답을 꺼내서 분리합니다.\n",
        "train_labels = train_dataset.pop(\"mpg\") # pop은 특정 column만 추출, mpg가 정답값\n",
        "train_labels.shape\n"
      ]
    },
    {
      "cell_type": "code",
      "source": [
        "test_labels = test_dataset.pop(\"mpg\")\n",
        "test_labels.shape"
      ],
      "metadata": {
        "colab": {
          "base_uri": "https://localhost:8080/"
        },
        "id": "xa8nT0T-RAM3",
        "outputId": "9dacb4c0-4af3-4485-b003-0dd0fabd74cf"
      },
      "execution_count": 19,
      "outputs": [
        {
          "output_type": "execute_result",
          "data": {
            "text/plain": [
              "(78,)"
            ]
          },
          "metadata": {},
          "execution_count": 19
        }
      ]
    },
    {
      "cell_type": "code",
      "source": [
        "train_dataset.shape, test_dataset.shape # 정답 column이 빠져서 하나씩 줄어듦"
      ],
      "metadata": {
        "colab": {
          "base_uri": "https://localhost:8080/"
        },
        "id": "j0q6E0dnRIw2",
        "outputId": "adbb13ae-71d5-4052-e616-844cfcc06bca"
      },
      "execution_count": 21,
      "outputs": [
        {
          "output_type": "execute_result",
          "data": {
            "text/plain": [
              "((314, 6), (78, 6))"
            ]
          },
          "metadata": {},
          "execution_count": 21
        }
      ]
    },
    {
      "cell_type": "code",
      "source": [
        "train_labels.head(2)"
      ],
      "metadata": {
        "colab": {
          "base_uri": "https://localhost:8080/"
        },
        "id": "jAJOR9a5RSML",
        "outputId": "2ace8735-7974-4a09-d384-64f5c7956761"
      },
      "execution_count": 22,
      "outputs": [
        {
          "output_type": "execute_result",
          "data": {
            "text/plain": [
              "79     26.0\n",
              "276    21.6\n",
              "Name: mpg, dtype: float64"
            ]
          },
          "metadata": {},
          "execution_count": 22
        }
      ]
    },
    {
      "cell_type": "markdown",
      "metadata": {
        "id": "RacBlm6ENkVf"
      },
      "source": [
        "## 딥러닝 모델 만들기\n",
        "<img src=\"https://cs231n.github.io/assets/nn1/neural_net.jpeg\" width=\"30%\"> <img src=\"https://cs231n.github.io/assets/nn1/neural_net2.jpeg\" width=\"40%\">\n",
        "\n",
        "* 이미지 출처 : https://cs231n.github.io/neural-networks-1/\n",
        "\n",
        "* 두 개의 완전 연결(densely connected) 은닉층으로 Sequential 모델을 만들겠습니다. \n",
        "* 출력 층은 하나의 연속적인 값을 반환합니다. "
      ]
    },
    {
      "cell_type": "code",
      "execution_count": 25,
      "metadata": {
        "id": "Eq39SESsNkVf",
        "colab": {
          "base_uri": "https://localhost:8080/",
          "height": 35
        },
        "outputId": "57fddd5f-6039-45b3-997c-1a7d3b9fbe5e"
      },
      "outputs": [
        {
          "output_type": "execute_result",
          "data": {
            "application/vnd.google.colaboratory.intrinsic+json": {
              "type": "string"
            },
            "text/plain": [
              "'2.7.0'"
            ]
          },
          "metadata": {},
          "execution_count": 25
        }
      ],
      "source": [
        "# tensorflow 를 불러옵니다.\n",
        "import tensorflow as tf\n",
        "tf.__version__"
      ]
    },
    {
      "cell_type": "markdown",
      "metadata": {
        "id": "BINtyV3_NkVg"
      },
      "source": [
        "### 딥러닝 층 구성"
      ]
    },
    {
      "cell_type": "code",
      "execution_count": 64,
      "metadata": {
        "id": "Xzu0wmTrNkVg"
      },
      "outputs": [],
      "source": [
        "model = tf.keras.Sequential([\n",
        "    tf.keras.layers.Dense(64, activation = 'relu', input_shape = [6]),\n",
        "    tf.keras.layers.Dense(64, activation = 'relu',),\n",
        "    tf.keras.layers.Dense(64, activation = 'relu',),\n",
        "    tf.keras.layers.Dense(1)\n",
        "]\n",
        ")"
      ]
    },
    {
      "cell_type": "markdown",
      "metadata": {
        "id": "FQO6I9MfNkVg"
      },
      "source": [
        "### 모델 컴파일"
      ]
    },
    {
      "cell_type": "code",
      "execution_count": 65,
      "metadata": {
        "id": "ZhQKP5I0NkVh"
      },
      "outputs": [],
      "source": [
        "model.compile(loss = 'mse', metrics = ['mae', \"mse\"]) #  회귀에서는 주로 metric으로 mae와 mse를 사용."
      ]
    },
    {
      "cell_type": "markdown",
      "metadata": {
        "id": "dGS8hHxcNkVh"
      },
      "source": [
        "### 만든 모델 확인하기"
      ]
    },
    {
      "cell_type": "code",
      "execution_count": 66,
      "metadata": {
        "scrolled": true,
        "id": "9AAuM9xDNkVh",
        "colab": {
          "base_uri": "https://localhost:8080/"
        },
        "outputId": "de020af8-ce60-4406-8901-b899109bb979"
      },
      "outputs": [
        {
          "output_type": "stream",
          "name": "stdout",
          "text": [
            "Model: \"sequential_8\"\n",
            "_________________________________________________________________\n",
            " Layer (type)                Output Shape              Param #   \n",
            "=================================================================\n",
            " dense_35 (Dense)            (None, 64)                448       \n",
            "                                                                 \n",
            " dense_36 (Dense)            (None, 64)                4160      \n",
            "                                                                 \n",
            " dense_37 (Dense)            (None, 64)                4160      \n",
            "                                                                 \n",
            " dense_38 (Dense)            (None, 1)                 65        \n",
            "                                                                 \n",
            "=================================================================\n",
            "Total params: 8,833\n",
            "Trainable params: 8,833\n",
            "Non-trainable params: 0\n",
            "_________________________________________________________________\n"
          ]
        }
      ],
      "source": [
        "model.summary()"
      ]
    },
    {
      "cell_type": "markdown",
      "metadata": {
        "id": "dj4uXRkeNkVi"
      },
      "source": [
        "## 딥러닝 모델로 학습하기"
      ]
    },
    {
      "cell_type": "code",
      "execution_count": 67,
      "metadata": {
        "id": "tEw50GSQNkVi",
        "colab": {
          "base_uri": "https://localhost:8080/"
        },
        "outputId": "a7043862-21b6-47bd-b790-b55245b0525e"
      },
      "outputs": [
        {
          "output_type": "stream",
          "name": "stdout",
          "text": [
            "Epoch 1/100\n",
            "10/10 [==============================] - 1s 6ms/step - loss: 17986.4141 - mae: 60.0908 - mse: 17986.4141\n",
            "Epoch 2/100\n",
            "10/10 [==============================] - 0s 5ms/step - loss: 347.5654 - mae: 16.2869 - mse: 347.5654\n",
            "Epoch 3/100\n",
            "10/10 [==============================] - 0s 5ms/step - loss: 3666.8250 - mae: 43.7006 - mse: 3666.8250\n",
            "Epoch 4/100\n",
            "10/10 [==============================] - 0s 5ms/step - loss: 1327.0157 - mae: 27.4122 - mse: 1327.0157\n",
            "Epoch 5/100\n",
            "10/10 [==============================] - 0s 5ms/step - loss: 3034.8594 - mae: 46.9294 - mse: 3034.8594\n",
            "Epoch 6/100\n",
            "10/10 [==============================] - 0s 5ms/step - loss: 1246.2845 - mae: 30.0949 - mse: 1246.2845\n",
            "Epoch 7/100\n",
            "10/10 [==============================] - 0s 4ms/step - loss: 2587.3604 - mae: 45.5371 - mse: 2587.3604\n",
            "Epoch 8/100\n",
            "10/10 [==============================] - 0s 5ms/step - loss: 2000.9401 - mae: 39.6885 - mse: 2000.9401\n",
            "Epoch 9/100\n",
            "10/10 [==============================] - 0s 6ms/step - loss: 1395.4141 - mae: 31.3919 - mse: 1395.4141\n",
            "Epoch 10/100\n",
            "10/10 [==============================] - 0s 5ms/step - loss: 2360.9387 - mae: 38.8135 - mse: 2360.9387\n",
            "Epoch 11/100\n",
            "10/10 [==============================] - 0s 5ms/step - loss: 2178.8406 - mae: 36.0575 - mse: 2178.8406\n",
            "Epoch 12/100\n",
            "10/10 [==============================] - 0s 7ms/step - loss: 1077.4172 - mae: 27.9323 - mse: 1077.4172\n",
            "Epoch 13/100\n",
            "10/10 [==============================] - 0s 5ms/step - loss: 2453.8269 - mae: 43.4134 - mse: 2453.8269\n",
            "Epoch 14/100\n",
            "10/10 [==============================] - 0s 5ms/step - loss: 1181.0275 - mae: 30.4739 - mse: 1181.0275\n",
            "Epoch 15/100\n",
            "10/10 [==============================] - 0s 5ms/step - loss: 1721.9302 - mae: 37.3427 - mse: 1721.9302\n",
            "Epoch 16/100\n",
            "10/10 [==============================] - 0s 6ms/step - loss: 1422.9020 - mae: 33.1034 - mse: 1422.9020\n",
            "Epoch 17/100\n",
            "10/10 [==============================] - 0s 5ms/step - loss: 1715.5802 - mae: 34.5999 - mse: 1715.5802\n",
            "Epoch 18/100\n",
            "10/10 [==============================] - 0s 5ms/step - loss: 710.2548 - mae: 20.3007 - mse: 710.2548\n",
            "Epoch 19/100\n",
            "10/10 [==============================] - 0s 5ms/step - loss: 1310.8337 - mae: 30.7751 - mse: 1310.8337\n",
            "Epoch 20/100\n",
            "10/10 [==============================] - 0s 5ms/step - loss: 1167.9980 - mae: 30.3394 - mse: 1167.9980\n",
            "Epoch 21/100\n",
            "10/10 [==============================] - 0s 5ms/step - loss: 807.1379 - mae: 24.6982 - mse: 807.1379\n",
            "Epoch 22/100\n",
            "10/10 [==============================] - 0s 5ms/step - loss: 1064.6570 - mae: 25.7282 - mse: 1064.6570\n",
            "Epoch 23/100\n",
            "10/10 [==============================] - 0s 5ms/step - loss: 262.6544 - mae: 13.1196 - mse: 262.6544\n",
            "Epoch 24/100\n",
            "10/10 [==============================] - 0s 5ms/step - loss: 908.7431 - mae: 25.2380 - mse: 908.7432\n",
            "Epoch 25/100\n",
            "10/10 [==============================] - 0s 5ms/step - loss: 973.6258 - mae: 26.2502 - mse: 973.6258\n",
            "Epoch 26/100\n",
            "10/10 [==============================] - 0s 6ms/step - loss: 274.9391 - mae: 14.1516 - mse: 274.9391\n",
            "Epoch 27/100\n",
            "10/10 [==============================] - 0s 5ms/step - loss: 847.8890 - mae: 23.4899 - mse: 847.8890\n",
            "Epoch 28/100\n",
            "10/10 [==============================] - 0s 4ms/step - loss: 547.9438 - mae: 20.6146 - mse: 547.9438\n",
            "Epoch 29/100\n",
            "10/10 [==============================] - 0s 6ms/step - loss: 702.0268 - mae: 23.5567 - mse: 702.0268\n",
            "Epoch 30/100\n",
            "10/10 [==============================] - 0s 5ms/step - loss: 444.5656 - mae: 16.3496 - mse: 444.5656\n",
            "Epoch 31/100\n",
            "10/10 [==============================] - 0s 7ms/step - loss: 509.3025 - mae: 18.5824 - mse: 509.3025\n",
            "Epoch 32/100\n",
            "10/10 [==============================] - 0s 5ms/step - loss: 478.6322 - mae: 18.4406 - mse: 478.6322\n",
            "Epoch 33/100\n",
            "10/10 [==============================] - 0s 5ms/step - loss: 417.5282 - mae: 17.8088 - mse: 417.5282\n",
            "Epoch 34/100\n",
            "10/10 [==============================] - 0s 5ms/step - loss: 684.6455 - mae: 21.1202 - mse: 684.6455\n",
            "Epoch 35/100\n",
            "10/10 [==============================] - 0s 7ms/step - loss: 243.9270 - mae: 12.6781 - mse: 243.9270\n",
            "Epoch 36/100\n",
            "10/10 [==============================] - 0s 5ms/step - loss: 412.1512 - mae: 16.7916 - mse: 412.1512\n",
            "Epoch 37/100\n",
            "10/10 [==============================] - 0s 5ms/step - loss: 479.9428 - mae: 19.6369 - mse: 479.9428\n",
            "Epoch 38/100\n",
            "10/10 [==============================] - 0s 5ms/step - loss: 279.9645 - mae: 14.0102 - mse: 279.9645\n",
            "Epoch 39/100\n",
            "10/10 [==============================] - 0s 5ms/step - loss: 359.7065 - mae: 16.3662 - mse: 359.7065\n",
            "Epoch 40/100\n",
            "10/10 [==============================] - 0s 5ms/step - loss: 255.0662 - mae: 13.5990 - mse: 255.0662\n",
            "Epoch 41/100\n",
            "10/10 [==============================] - 0s 5ms/step - loss: 356.4081 - mae: 15.7631 - mse: 356.4081\n",
            "Epoch 42/100\n",
            "10/10 [==============================] - 0s 5ms/step - loss: 258.8984 - mae: 13.9213 - mse: 258.8984\n",
            "Epoch 43/100\n",
            "10/10 [==============================] - 0s 5ms/step - loss: 335.0274 - mae: 15.9984 - mse: 335.0274\n",
            "Epoch 44/100\n",
            "10/10 [==============================] - 0s 5ms/step - loss: 195.0498 - mae: 11.6968 - mse: 195.0498\n",
            "Epoch 45/100\n",
            "10/10 [==============================] - 0s 5ms/step - loss: 239.1911 - mae: 12.4819 - mse: 239.1911\n",
            "Epoch 46/100\n",
            "10/10 [==============================] - 0s 5ms/step - loss: 223.2001 - mae: 12.3388 - mse: 223.2001\n",
            "Epoch 47/100\n",
            "10/10 [==============================] - 0s 5ms/step - loss: 287.0327 - mae: 14.1051 - mse: 287.0327\n",
            "Epoch 48/100\n",
            "10/10 [==============================] - 0s 5ms/step - loss: 111.8949 - mae: 8.5133 - mse: 111.8949\n",
            "Epoch 49/100\n",
            "10/10 [==============================] - 0s 4ms/step - loss: 284.8338 - mae: 13.0538 - mse: 284.8338\n",
            "Epoch 50/100\n",
            "10/10 [==============================] - 0s 5ms/step - loss: 199.0926 - mae: 11.4881 - mse: 199.0926\n",
            "Epoch 51/100\n",
            "10/10 [==============================] - 0s 5ms/step - loss: 101.0701 - mae: 7.9361 - mse: 101.0701\n",
            "Epoch 52/100\n",
            "10/10 [==============================] - 0s 5ms/step - loss: 291.6329 - mae: 13.5345 - mse: 291.6329\n",
            "Epoch 53/100\n",
            "10/10 [==============================] - 0s 4ms/step - loss: 189.0544 - mae: 11.4063 - mse: 189.0544\n",
            "Epoch 54/100\n",
            "10/10 [==============================] - 0s 4ms/step - loss: 217.4379 - mae: 11.6129 - mse: 217.4379\n",
            "Epoch 55/100\n",
            "10/10 [==============================] - 0s 4ms/step - loss: 103.0556 - mae: 8.1863 - mse: 103.0556\n",
            "Epoch 56/100\n",
            "10/10 [==============================] - 0s 5ms/step - loss: 208.5538 - mae: 11.5505 - mse: 208.5538\n",
            "Epoch 57/100\n",
            "10/10 [==============================] - 0s 4ms/step - loss: 78.9500 - mae: 6.8950 - mse: 78.9500\n",
            "Epoch 58/100\n",
            "10/10 [==============================] - 0s 5ms/step - loss: 209.5328 - mae: 11.6205 - mse: 209.5328\n",
            "Epoch 59/100\n",
            "10/10 [==============================] - 0s 4ms/step - loss: 134.0137 - mae: 9.3958 - mse: 134.0137\n",
            "Epoch 60/100\n",
            "10/10 [==============================] - 0s 5ms/step - loss: 219.2083 - mae: 12.5873 - mse: 219.2083\n",
            "Epoch 61/100\n",
            "10/10 [==============================] - 0s 5ms/step - loss: 105.6155 - mae: 8.1664 - mse: 105.6155\n",
            "Epoch 62/100\n",
            "10/10 [==============================] - 0s 5ms/step - loss: 103.2830 - mae: 8.1404 - mse: 103.2830\n",
            "Epoch 63/100\n",
            "10/10 [==============================] - 0s 5ms/step - loss: 135.6710 - mae: 9.4735 - mse: 135.6710\n",
            "Epoch 64/100\n",
            "10/10 [==============================] - 0s 5ms/step - loss: 152.5775 - mae: 10.0090 - mse: 152.5775\n",
            "Epoch 65/100\n",
            "10/10 [==============================] - 0s 5ms/step - loss: 97.3393 - mae: 8.2048 - mse: 97.3393\n",
            "Epoch 66/100\n",
            "10/10 [==============================] - 0s 5ms/step - loss: 138.5898 - mae: 10.0410 - mse: 138.5898\n",
            "Epoch 67/100\n",
            "10/10 [==============================] - 0s 4ms/step - loss: 111.9249 - mae: 8.6098 - mse: 111.9249\n",
            "Epoch 68/100\n",
            "10/10 [==============================] - 0s 5ms/step - loss: 111.2580 - mae: 8.6749 - mse: 111.2580\n",
            "Epoch 69/100\n",
            "10/10 [==============================] - 0s 5ms/step - loss: 85.3869 - mae: 7.3715 - mse: 85.3869\n",
            "Epoch 70/100\n",
            "10/10 [==============================] - 0s 5ms/step - loss: 117.4658 - mae: 8.5239 - mse: 117.4658\n",
            "Epoch 71/100\n",
            "10/10 [==============================] - 0s 5ms/step - loss: 114.0258 - mae: 8.7339 - mse: 114.0258\n",
            "Epoch 72/100\n",
            "10/10 [==============================] - 0s 7ms/step - loss: 152.2001 - mae: 10.1871 - mse: 152.2001\n",
            "Epoch 73/100\n",
            "10/10 [==============================] - 0s 5ms/step - loss: 57.6383 - mae: 6.0968 - mse: 57.6383\n",
            "Epoch 74/100\n",
            "10/10 [==============================] - 0s 8ms/step - loss: 102.0627 - mae: 8.3417 - mse: 102.0627\n",
            "Epoch 75/100\n",
            "10/10 [==============================] - 0s 6ms/step - loss: 137.7701 - mae: 9.1155 - mse: 137.7701\n",
            "Epoch 76/100\n",
            "10/10 [==============================] - 0s 7ms/step - loss: 68.7632 - mae: 6.7163 - mse: 68.7632\n",
            "Epoch 77/100\n",
            "10/10 [==============================] - 0s 5ms/step - loss: 49.8638 - mae: 5.5454 - mse: 49.8638\n",
            "Epoch 78/100\n",
            "10/10 [==============================] - 0s 5ms/step - loss: 95.1350 - mae: 8.0681 - mse: 95.1350\n",
            "Epoch 79/100\n",
            "10/10 [==============================] - 0s 5ms/step - loss: 86.0435 - mae: 7.3011 - mse: 86.0435\n",
            "Epoch 80/100\n",
            "10/10 [==============================] - 0s 5ms/step - loss: 72.9704 - mae: 6.7358 - mse: 72.9704\n",
            "Epoch 81/100\n",
            "10/10 [==============================] - 0s 5ms/step - loss: 101.7105 - mae: 8.0944 - mse: 101.7105\n",
            "Epoch 82/100\n",
            "10/10 [==============================] - 0s 7ms/step - loss: 95.5880 - mae: 8.1007 - mse: 95.5880\n",
            "Epoch 83/100\n",
            "10/10 [==============================] - 0s 5ms/step - loss: 49.9333 - mae: 5.4094 - mse: 49.9333\n",
            "Epoch 84/100\n",
            "10/10 [==============================] - 0s 5ms/step - loss: 95.4637 - mae: 7.9429 - mse: 95.4637\n",
            "Epoch 85/100\n",
            "10/10 [==============================] - 0s 5ms/step - loss: 86.2453 - mae: 7.2374 - mse: 86.2453\n",
            "Epoch 86/100\n",
            "10/10 [==============================] - 0s 5ms/step - loss: 79.2314 - mae: 6.9100 - mse: 79.2314\n",
            "Epoch 87/100\n",
            "10/10 [==============================] - 0s 5ms/step - loss: 55.3923 - mae: 5.9204 - mse: 55.3923\n",
            "Epoch 88/100\n",
            "10/10 [==============================] - 0s 5ms/step - loss: 52.8389 - mae: 5.6647 - mse: 52.8389\n",
            "Epoch 89/100\n",
            "10/10 [==============================] - 0s 4ms/step - loss: 81.2290 - mae: 7.1846 - mse: 81.2290\n",
            "Epoch 90/100\n",
            "10/10 [==============================] - 0s 5ms/step - loss: 64.3817 - mae: 6.4569 - mse: 64.3817\n",
            "Epoch 91/100\n",
            "10/10 [==============================] - 0s 5ms/step - loss: 70.2608 - mae: 6.6156 - mse: 70.2608\n",
            "Epoch 92/100\n",
            "10/10 [==============================] - 0s 6ms/step - loss: 82.1512 - mae: 7.0232 - mse: 82.1512\n",
            "Epoch 93/100\n",
            "10/10 [==============================] - 0s 5ms/step - loss: 66.9047 - mae: 6.6362 - mse: 66.9047\n",
            "Epoch 94/100\n",
            "10/10 [==============================] - 0s 5ms/step - loss: 40.0677 - mae: 4.9070 - mse: 40.0677\n",
            "Epoch 95/100\n",
            "10/10 [==============================] - 0s 6ms/step - loss: 73.4344 - mae: 6.9193 - mse: 73.4344\n",
            "Epoch 96/100\n",
            "10/10 [==============================] - 0s 5ms/step - loss: 81.4634 - mae: 7.3885 - mse: 81.4634\n",
            "Epoch 97/100\n",
            "10/10 [==============================] - 0s 4ms/step - loss: 54.9564 - mae: 5.8940 - mse: 54.9564\n",
            "Epoch 98/100\n",
            "10/10 [==============================] - 0s 5ms/step - loss: 68.7912 - mae: 6.8266 - mse: 68.7912\n",
            "Epoch 99/100\n",
            "10/10 [==============================] - 0s 5ms/step - loss: 63.5923 - mae: 6.2696 - mse: 63.5923\n",
            "Epoch 100/100\n",
            "10/10 [==============================] - 0s 4ms/step - loss: 73.2278 - mae: 6.8585 - mse: 73.2278\n"
          ]
        },
        {
          "output_type": "execute_result",
          "data": {
            "text/plain": [
              "<keras.callbacks.History at 0x7fe7e6d5a6d0>"
            ]
          },
          "metadata": {},
          "execution_count": 67
        }
      ],
      "source": [
        "model.fit(train_dataset, train_labels, epochs = 100, verbose = 1)"
      ]
    },
    {
      "cell_type": "markdown",
      "metadata": {
        "id": "NWuEA1T4NkVi"
      },
      "source": [
        "## 딥러닝 모델로 평가하기"
      ]
    },
    {
      "cell_type": "code",
      "execution_count": 68,
      "metadata": {
        "id": "txM6zYiCNkVi",
        "colab": {
          "base_uri": "https://localhost:8080/"
        },
        "outputId": "648854c9-d109-42a8-a52d-86d1d83a5ed8"
      },
      "outputs": [
        {
          "output_type": "stream",
          "name": "stdout",
          "text": [
            "3/3 [==============================] - 0s 5ms/step - loss: 108.1644 - mae: 9.2074 - mse: 108.1644\n"
          ]
        },
        {
          "output_type": "execute_result",
          "data": {
            "text/plain": [
              "[108.16436004638672, 9.207356452941895, 108.16436004638672]"
            ]
          },
          "metadata": {},
          "execution_count": 68
        }
      ],
      "source": [
        "model.evaluate(test_dataset, test_labels)"
      ]
    },
    {
      "cell_type": "markdown",
      "metadata": {
        "id": "r-vta_-bNkVi"
      },
      "source": [
        "## 딥러닝 모델의 예측하기"
      ]
    },
    {
      "cell_type": "code",
      "execution_count": 69,
      "metadata": {
        "id": "Op_9V_GoNkVi",
        "colab": {
          "base_uri": "https://localhost:8080/"
        },
        "outputId": "e275f2fa-227e-4b7d-b21d-312deef230e8"
      },
      "outputs": [
        {
          "output_type": "execute_result",
          "data": {
            "text/plain": [
              "array([ 7.2628136, -1.0734062, 20.359732 , 18.783413 , 10.218984 ],\n",
              "      dtype=float32)"
            ]
          },
          "metadata": {},
          "execution_count": 69
        }
      ],
      "source": [
        "predict_labels = model.predict(test_dataset).flatten() # 2차원 -> 1차원\n",
        "predict_labels[:5]"
      ]
    },
    {
      "cell_type": "markdown",
      "metadata": {
        "id": "Rf7krGHYNkVj"
      },
      "source": [
        "## 딥러닝 모델의 예측결과 평가하기"
      ]
    },
    {
      "cell_type": "code",
      "execution_count": 70,
      "metadata": {
        "id": "JnFzRbrtNkVj",
        "colab": {
          "base_uri": "https://localhost:8080/",
          "height": 297
        },
        "outputId": "614194dd-ba8b-469c-c6b4-07811a41db9d"
      },
      "outputs": [
        {
          "output_type": "execute_result",
          "data": {
            "text/plain": [
              "<matplotlib.axes._subplots.AxesSubplot at 0x7fe7e4b12150>"
            ]
          },
          "metadata": {},
          "execution_count": 70
        },
        {
          "output_type": "display_data",
          "data": {
            "image/png": "[encoded data removed]",
            "text/plain": [
              "<Figure size 432x288 with 1 Axes>"
            ]
          },
          "metadata": {
            "needs_background": "light"
          }
        }
      ],
      "source": [
        "sns.scatterplot(x = test_labels, y = predict_labels)"
      ]
    },
    {
      "cell_type": "code",
      "execution_count": 77,
      "metadata": {
        "id": "U3OgaQAfNkVj",
        "colab": {
          "base_uri": "https://localhost:8080/",
          "height": 459
        },
        "outputId": "cd831c0f-5916-4e89-f5d3-3e09bc430fe1"
      },
      "outputs": [
        {
          "output_type": "execute_result",
          "data": {
            "text/plain": [
              "<seaborn.axisgrid.JointGrid at 0x7fe7e403b590>"
            ]
          },
          "metadata": {},
          "execution_count": 77
        },
        {
          "output_type": "display_data",
          "data": {
            "image/png": "[encoded data removed]",
            "text/plain": [
              "<Figure size 432x432 with 3 Axes>"
            ]
          },
          "metadata": {
            "needs_background": "light"
          }
        }
      ],
      "source": [
        "sns.jointplot(x = test_labels, y = predict_labels, kind = 'reg')"
      ]
    }
  ],
  "metadata": {
    "kernelspec": {
      "display_name": "Python 3",
      "language": "python",
      "name": "python3"
    },
    "language_info": {
      "codemirror_mode": {
        "name": "ipython",
        "version": 3
      },
      "file_extension": ".py",
      "mimetype": "text/x-python",
      "name": "python",
      "nbconvert_exporter": "python",
      "pygments_lexer": "ipython3",
      "version": "3.7.6"
    },
    "toc": {
      "base_numbering": 1,
      "nav_menu": {},
      "number_sections": true,
      "sideBar": true,
      "skip_h1_title": false,
      "title_cell": "Table of Contents",
      "title_sidebar": "Contents",
      "toc_cell": false,
      "toc_position": {},
      "toc_section_display": true,
      "toc_window_display": false
    },
    "varInspector": {
      "cols": {
        "lenName": 16,
        "lenType": 16,
        "lenVar": 40
      },
      "kernels_config": {
        "python": {
          "delete_cmd_postfix": "",
          "delete_cmd_prefix": "del ",
          "library": "var_list.py",
          "varRefreshCmd": "print(var_dic_list())"
        },
        "r": {
          "delete_cmd_postfix": ") ",
          "delete_cmd_prefix": "rm(",
          "library": "var_list.r",
          "varRefreshCmd": "cat(var_dic_list()) "
        }
      },
      "types_to_exclude": [
        "module",
        "function",
        "builtin_function_or_method",
        "instance",
        "_Feature"
      ],
      "window_display": false
    },
    "colab": {
      "name": "[Boost]6. 텐서플로를 통한 자동차 연비 데이터 예측-input.ipynb",
      "provenance": [],
      "include_colab_link": true
    },
    "accelerator": "GPU"
  },
  "nbformat": 4,
  "nbformat_minor": 0
}