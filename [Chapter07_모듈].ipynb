{
  "nbformat": 4,
  "nbformat_minor": 0,
  "metadata": {
    "colab": {
      "name": "[Chapter07.모듈].ipynb",
      "provenance": [],
      "collapsed_sections": [],
      "toc_visible": true,
      "authorship_tag": "ABX9TyMrMPApuJGcFjA/oZsWc9Br",
      "include_colab_link": true
    },
    "kernelspec": {
      "name": "python3",
      "display_name": "Python 3"
    },
    "language_info": {
      "name": "python"
    }
  },
  "cells": [
    {
      "cell_type": "markdown",
      "metadata": {
        "id": "view-in-github",
        "colab_type": "text"
      },
      "source": [
        "<a href=\"https://colab.research.google.com/github/CamelGoong/Python_practicing/blob/main/%5BChapter07_%EB%AA%A8%EB%93%88%5D.ipynb\" target=\"_parent\"><img src=\"https://colab.research.google.com/assets/colab-badge.svg\" alt=\"Open In Colab\"/></a>"
      ]
    },
    {
      "cell_type": "markdown",
      "source": [
        "# 07-1 표준 모듈"
      ],
      "metadata": {
        "id": "lNyMZfsnRuWT"
      }
    },
    {
      "cell_type": "markdown",
      "source": [
        "모듈 사용의 기본: math 모듈"
      ],
      "metadata": {
        "id": "YAH6hUkFs0Ff"
      }
    },
    {
      "cell_type": "markdown",
      "source": [
        "import 구문"
      ],
      "metadata": {
        "id": "ljuK8xxAvlyW"
      }
    },
    {
      "cell_type": "code",
      "execution_count": 1,
      "metadata": {
        "id": "ihBuKHaYRp5g",
        "colab": {
          "base_uri": "https://localhost:8080/"
        },
        "outputId": "e55fa7c0-467f-494d-ea20-db544a444b7b"
      },
      "outputs": [
        {
          "output_type": "execute_result",
          "data": {
            "text/plain": [
              "0.8414709848078965"
            ]
          },
          "metadata": {},
          "execution_count": 1
        }
      ],
      "source": [
        "import math\n",
        "\n",
        "math.sin(1)"
      ]
    },
    {
      "cell_type": "markdown",
      "source": [
        "from 구문"
      ],
      "metadata": {
        "id": "YsZUf75mvutc"
      }
    },
    {
      "cell_type": "code",
      "source": [
        "from math import sin\n",
        "\n",
        "sin(1)\n",
        "\n",
        "from math import *"
      ],
      "metadata": {
        "id": "TYgHaG34vt0u"
      },
      "execution_count": 3,
      "outputs": []
    },
    {
      "cell_type": "markdown",
      "source": [
        "random : random한 값을 생성할 때 사용하는 모듈"
      ],
      "metadata": {
        "id": "mHlTPCRywmZ8"
      }
    },
    {
      "cell_type": "code",
      "source": [
        "import random\n",
        "\n",
        "print(\"# random 모듈\")\n",
        "\n",
        "# random(): 0.0~1.0 사이의 float을 return\n",
        "print(\"random():\", random.random())\n",
        "\n",
        "# uniform(min, max): 지정한 범위 사이의 float을 return\n",
        "print(\"uniform(10, 20):\", random.uniform(10,20))\n",
        "\n",
        "# randrage(): 지정한 범위 사이의 int를 return\n",
        "print(\"randrange(10):\", random.randrange(10))\n",
        "\n",
        "# choice(list): 리스트 내부에 있는 요소를 랜덤하게 선택\n",
        "print(\"choice([1, 2, 3, 4, 5, 6, 7, 8, 9, 10]): \", random.choice([1, 2, 3, 4, 5, 6, 7, 8, 9, 10]))\n",
        "\n",
        "# shuffle(list): 리스트의 요소들을 랜덤하게 섞음\n",
        "print(\"shuffle([1, 2, 3, 4, 5, 6, 7, 8, 9, 10]): \", random.shuffle([1, 2, 3, 4, 5, 6, 7, 8, 9, 10]))\n",
        "\n",
        "# sample(list, k = 숫자): 리스트의 요소 중에 k개를 뽑음\n",
        "print(\"sample([1,2,3,4,5]), k=2): \", random.sample([1,2,3,4,5], k=2))"
      ],
      "metadata": {
        "colab": {
          "base_uri": "https://localhost:8080/"
        },
        "id": "CElANgB6siWJ",
        "outputId": "0ce8a731-658f-4e9c-8ddd-c1c0937ef571"
      },
      "execution_count": 13,
      "outputs": [
        {
          "output_type": "stream",
          "name": "stdout",
          "text": [
            "# random 모듈\n",
            "random(): 0.8634888671768735\n",
            "uniform(10, 20): 12.328260624891252\n",
            "randrange(10): 5\n",
            "choice([1, 2, 3, 4, 5, 6, 7, 8, 9, 10]):  1\n",
            "shuffle([1, 2, 3, 4, 5, 6, 7, 8, 9, 10]):  None\n",
            "sample([1,2,3,4,5]), k=2):  [5, 1]\n"
          ]
        }
      ]
    },
    {
      "cell_type": "markdown",
      "source": [
        "sys: 시스템과 관련된 정보를 가지고 있는 모듈"
      ],
      "metadata": {
        "id": "sjcKF9-Q0jXx"
      }
    },
    {
      "cell_type": "code",
      "source": [
        "import sys\n",
        "\n",
        "print(sys.argv)"
      ],
      "metadata": {
        "colab": {
          "base_uri": "https://localhost:8080/"
        },
        "id": "9pzt9jzawzrL",
        "outputId": "0028b4b0-2dda-48f4-af2f-f65f2fc4ad62"
      },
      "execution_count": 14,
      "outputs": [
        {
          "output_type": "stream",
          "name": "stdout",
          "text": [
            "['/usr/local/lib/python3.7/dist-packages/ipykernel_launcher.py', '-f', '/root/.local/share/jupyter/runtime/kernel-cd0f51cf-8b93-47b5-898f-919044a992cc.json']\n"
          ]
        }
      ]
    },
    {
      "cell_type": "markdown",
      "source": [
        "os 모듈: 운영체제와 관련된 기능을 가진 모듈"
      ],
      "metadata": {
        "id": "J3MoPJsP2eAP"
      }
    },
    {
      "cell_type": "code",
      "source": [
        "import os\n",
        "\n",
        "print(\"현재 운영체제: \", os.name)\n",
        "print(\"현재 폴더: \", os.getcwd()) # cwd: current working directory\n",
        "print(\"현재 폴더 내부의 요소: \", os.listdir())\n",
        "\n",
        "os.mkdir(\"hello\")\n",
        "os.rmdir(\"hello\") # 폴더 제거(remove)\n",
        "\n",
        "with open(\"original.txt\", 'w') as file:\n",
        "  file.write(\"hello\")\n",
        "os.rename(\"original.txt\", \"new.txt\") # 파일 이름변경\n",
        "\n",
        "os.remove(\"new.txt\") # 파일 제거(remove)\n",
        "\n",
        "os.system('dir') # 시스템 명령어 실행"
      ],
      "metadata": {
        "colab": {
          "base_uri": "https://localhost:8080/"
        },
        "id": "vwctFszC1FP7",
        "outputId": "da6ec176-7922-4bdb-a386-75aaa3f709b9"
      },
      "execution_count": 17,
      "outputs": [
        {
          "output_type": "stream",
          "name": "stdout",
          "text": [
            "현재 운영체제:  posix\n",
            "현재 폴더:  /content\n",
            "현재 폴더 내부의 요소:  ['.config', 'sample_data']\n"
          ]
        },
        {
          "output_type": "execute_result",
          "data": {
            "text/plain": [
              "0"
            ]
          },
          "metadata": {},
          "execution_count": 17
        }
      ]
    },
    {
      "cell_type": "markdown",
      "source": [
        "datetime 모듈: date(날짜), time(시간)과 관련된 모듈"
      ],
      "metadata": {
        "id": "QWNRnaG14oLA"
      }
    },
    {
      "cell_type": "code",
      "source": [
        "import datetime\n",
        "\n",
        "print('# 현재 시각 출력하기')\n",
        "now = datetime.datetime.now()\n",
        "print(now.year, \"년\")\n",
        "print(now.month, \"월\")\n",
        "print(now.day, \"일\")\n",
        "print(now.hour, \"시\")\n",
        "print(now.minute, \"분\")\n",
        "print(now.second, \"초\")\n",
        "print()"
      ],
      "metadata": {
        "colab": {
          "base_uri": "https://localhost:8080/"
        },
        "id": "k_0gQnnu2mEj",
        "outputId": "88c4d587-b57d-47d7-9158-2fdc8daa0b66"
      },
      "execution_count": 18,
      "outputs": [
        {
          "output_type": "stream",
          "name": "stdout",
          "text": [
            "# 현재 시각 출력하기\n",
            "2022 년\n",
            "1 월\n",
            "1 일\n",
            "9 시\n",
            "9 분\n",
            "23 초\n",
            "\n"
          ]
        }
      ]
    },
    {
      "cell_type": "code",
      "source": [
        "# 특정 시간 이후의 시간 구하기\n",
        "\n",
        "print(\"# datetime.timedelta로 시간 더하기\")\n",
        "after = now + datetime.timedelta( \\\n",
        "                                 weeks = 1,\\\n",
        "                                 days = 1, \\\n",
        "                                 hours = 1, \\\n",
        "                                 minutes = 1, \\\n",
        "                                 seconds = 1\n",
        "\n",
        ")\n",
        "\n",
        "print(after.strftime(\"%Y{} %m{} %d{} %H{} %M{} %S{}\").format(*\"년월일시분초\"))\n",
        "print()\n",
        "\n",
        "# 특정 시간 요소 교체하기\n",
        "\n",
        "print(\"# now.replace()로 1년 더하기\")\n",
        "output = now.replace(year = (now.year + 1))\n",
        "\n",
        "print(output.strftime(\"%Y{} %m{} %d{} %H{} %M{} %S{}\").format(*\"년월일시분초\"))"
      ],
      "metadata": {
        "colab": {
          "base_uri": "https://localhost:8080/"
        },
        "id": "TjJd7T0T5pPJ",
        "outputId": "0b02ae6f-7db7-49e8-88dc-c99affcb6f2c"
      },
      "execution_count": 22,
      "outputs": [
        {
          "output_type": "stream",
          "name": "stdout",
          "text": [
            "# datetime.timedelta로 시간 더하기\n",
            "2022년 01월 09일 10시 10분 24초\n",
            "\n",
            "# now.replace()로 1년 더하기\n",
            "2023년 01월 01일 09시 09분 23초\n"
          ]
        }
      ]
    },
    {
      "cell_type": "markdown",
      "source": [
        "time 모듈: 시간과 관련된 기능"
      ],
      "metadata": {
        "id": "8i3A1Vbo7NMl"
      }
    },
    {
      "cell_type": "code",
      "source": [
        "import time\n",
        "\n",
        "print(\"지금부터 5초 동안 정지합니다.\")\n",
        "time.sleep(5)\n",
        "print(\"프로그램을 종료합니다.\")"
      ],
      "metadata": {
        "colab": {
          "base_uri": "https://localhost:8080/"
        },
        "id": "mY4YM_Ju6ulX",
        "outputId": "43b4ae28-5bb6-4f99-f6c2-e4bc30da015e"
      },
      "execution_count": 23,
      "outputs": [
        {
          "output_type": "stream",
          "name": "stdout",
          "text": [
            "지금부터 5초 동안 정지합니다.\n",
            "프로그램을 종료합니다.\n"
          ]
        }
      ]
    },
    {
      "cell_type": "markdown",
      "source": [
        "urlib 모듈: url을 다루는 라이브러리, 인터넷 주소를 활용할 때 사용하는 라이브러리"
      ],
      "metadata": {
        "id": "7rVWTfwI88lH"
      }
    },
    {
      "cell_type": "code",
      "source": [
        "from urllib import request\n",
        "\n",
        "# urlopen() 함수로 구글의 메인 페이지 읽기\n",
        "target = request.urlopen(\"https://google.com\")\n",
        "output = target.read()\n",
        "\n",
        "print(output)"
      ],
      "metadata": {
        "colab": {
          "base_uri": "https://localhost:8080/"
        },
        "id": "jV6b6Yw386hI",
        "outputId": "112b4f6f-8d68-411d-eaf0-f7b1e4f1a6a3"
      },
      "execution_count": 24,
      "outputs": [
        {
          "output_type": "stream",
          "name": "stdout",
          "text": [
            "b'<!doctype html><html itemscope=\"\" itemtype=\"http://schema.org/WebPage\" lang=\"en\"><head><meta content=\"Search the world\\'s information, including webpages, images, videos and more. Google has many special features to help you find exactly what you\\'re looking for.\" name=\"description\"><meta content=\"noodp\" name=\"robots\"><meta content=\"text/html; charset=UTF-8\" http-equiv=\"Content-Type\"><meta content=\"/logos/doodles/2022/new-years-day-2022-6753651837109338-law.gif\" itemprop=\"image\"><meta content=\"New Year\\'s Day 2022\" property=\"twitter:title\"><meta content=\"Happy New Year! #GoogleDoodle\" property=\"twitter:description\"><meta content=\"Happy New Year! #GoogleDoodle\" property=\"og:description\"><meta content=\"summary_large_image\" property=\"twitter:card\"><meta content=\"@GoogleDoodles\" property=\"twitter:site\"><meta content=\"https://www.google.com/logos/doodles/2022/new-years-day-2022-6753651837109338-2xa.gif\" property=\"twitter:image\"><meta content=\"https://www.google.com/logos/doodles/2022/new-years-day-2022-6753651837109338-2xa.gif\" property=\"og:image\"><meta content=\"1000\" property=\"og:image:width\"><meta content=\"400\" property=\"og:image:height\"><meta content=\"https://www.google.com/logos/doodles/2022/new-years-day-2022-6753651837109338-2xa.gif\" property=\"og:url\"><meta content=\"video.other\" property=\"og:type\"><title>Google</title><script nonce=\"NW0uP9S1AEih2rYeQEdhmg==\">(function(){window.google={kEI:\\'HB7QYfXaIpfKtQaY3IXgCw\\',kEXPI:\\'0,1302536,56873,6059,206,2415,2389,2316,383,246,5,1354,4013,923,314,1122516,1197719,380772,16114,28684,17572,4859,1361,284,9006,3030,12738,4841,4020,978,13122,106,3847,4192,6430,21822,919,5081,1593,1279,2212,530,149,1103,840,1983,4314,109,3405,606,2023,1777,520,14670,3227,2845,7,4774,825,6755,5096,8101,6295,1924,908,2,941,2614,12710,432,3,1590,1,5445,148,11323,2652,4,1528,2304,6463,576,74,4610,17339,3050,2658,4163,3193,31,5664,7964,2305,675,1457,15351,1435,5827,2530,4094,3139,5,908,3,3541,1,14711,1813,283,38,874,5992,12346,2332,3765,2,3035,10987,1931,442,342,255,2870,123,1557,744,5852,10463,1160,1267,4411,1022,2380,2719,18260,1,8,7754,4567,2578,3675,4386,2,2341,1,3773,3,6946,637,545,4790,438,814,4606,1,8,1173,46,6087,1748,3427,3706,1396,143,1376,1418,2204,566,257,1260,98,292,203,542,567,101,1328,65,446,2,2,1,1763,1227,3970,182,3647,168,235,125,1181,2669,1152,3,213,2,295,387,93,3763,3,525,716,167,148,735,6,2,118,279,362,421,69,596,1,1171,238,320,1724,1357,1692,2711,206,107,38,111,2,253,372,5,720,755,77,284,672,1,2,1706,2,99,63,5,882,193,946,239,96,358,2,1974,4132,196,5510082,446,505,105,1802279,4193980,257,2800439,882,444,1,2,80,1,1796,1,9,2553,1,748,936,4,559,1,4265,1,1,2,1331,4142,2609,155,17,13,72,139,4,2,20,2,169,13,19,46,5,39,96,548,29,2,2,1,2,1,2,2,7,4,1,2,2,2,2,2,2,353,513,186,1,1,158,3,2,2,2,2,2,4,2,3,3,269,1601,106,24,2,4,1,4,64,2,4,40,2,2,2,9,2,2,2,1,23952848,4041352,338,3,2414,1491,9,1435,159,1358,1128,2,3590,3,2472,2003,803,830449\\',kBL:\\'4JUY\\'};google.sn=\\'webhp\\';google.kHL=\\'en\\';})();(function(){\\nvar f=this||self;var h,k=[];function l(a){for(var b;a&&(!a.getAttribute||!(b=a.getAttribute(\"eid\")));)a=a.parentNode;return b||h}function m(a){for(var b=null;a&&(!a.getAttribute||!(b=a.getAttribute(\"leid\")));)a=a.parentNode;return b}\\nfunction n(a,b,c,d,g){var e=\"\";c||-1!==b.search(\"&ei=\")||(e=\"&ei=\"+l(d),-1===b.search(\"&lei=\")&&(d=m(d))&&(e+=\"&lei=\"+d));d=\"\";!c&&f._cshid&&-1===b.search(\"&cshid=\")&&\"slh\"!==a&&(d=\"&cshid=\"+f._cshid);c=c||\"/\"+(g||\"gen_204\")+\"?atyp=i&ct=\"+a+\"&cad=\"+b+e+\"&zx=\"+Date.now()+d;/^http:/i.test(c)&&\"https:\"===window.location.protocol&&(google.ml&&google.ml(Error(\"a\"),!1,{src:c,glmm:1}),c=\"\");return c};h=google.kEI;google.getEI=l;google.getLEI=m;google.ml=function(){return null};google.log=function(a,b,c,d,g){if(c=n(a,b,c,d,g)){a=new Image;var e=k.length;k[e]=a;a.onerror=a.onload=a.onabort=function(){delete k[e]};a.src=c}};google.logUrl=n;}).call(this);(function(){\\ngoogle.y={};google.sy=[];google.x=function(a,b){if(a)var c=a.id;else{do c=Math.random();while(google.y[c])}google.y[c]=[a,b];return!1};google.sx=function(a){google.sy.push(a)};google.lm=[];google.plm=function(a){google.lm.push.apply(google.lm,a)};google.lq=[];google.load=function(a,b,c){google.lq.push([[a],b,c])};google.loadAll=function(a,b){google.lq.push([a,b])};google.bx=!1;google.lx=function(){};}).call(this);google.f={};(function(){\\ndocument.documentElement.addEventListener(\"submit\",function(b){var a;if(a=b.target){var c=a.getAttribute(\"data-submitfalse\");a=\"1\"===c||\"q\"===c&&!a.elements.q.value?!0:!1}else a=!1;a&&(b.preventDefault(),b.stopPropagation())},!0);document.documentElement.addEventListener(\"click\",function(b){var a;a:{for(a=b.target;a&&a!==document.documentElement;a=a.parentElement)if(\"A\"===a.tagName){a=\"1\"===a.getAttribute(\"data-nohref\");break a}a=!1}a&&b.preventDefault()},!0);}).call(this);</script><style>#gbar,#guser{font-size:13px;padding-top:1px !important;}#gbar{height:22px}#guser{padding-bottom:7px !important;text-align:right}.gbh,.gbd{border-top:1px solid #c9d7f1;font-size:1px}.gbh{height:0;position:absolute;top:24px;width:100%}@media all{.gb1{height:22px;margin-right:.5em;vertical-align:top}#gbar{float:left}}a.gb1,a.gb4{text-decoration:underline !important}a.gb1,a.gb4{color:#00c !important}.gbi .gb4{color:#dd8e27 !important}.gbf .gb4{color:#900 !important}\\n</style><style>body,td,a,p,.h{font-family:arial,sans-serif}body{margin:0;overflow-y:scroll}#gog{padding:3px 8px 0}td{line-height:.8em}.gac_m td{line-height:17px}form{margin-bottom:20px}.h{color:#1558d6}em{font-weight:bold;font-style:normal}.lst{height:25px;width:496px}.gsfi,.lst{font:18px arial,sans-serif}.gsfs{font:17px arial,sans-serif}.ds{display:inline-box;display:inline-block;margin:3px 0 4px;margin-left:4px}input{font-family:inherit}body{background:#fff;color:#000}a{color:#4b11a8;text-decoration:none}a:hover,a:active{text-decoration:underline}.fl a{color:#1558d6}a:visited{color:#4b11a8}.sblc{padding-top:5px}.sblc a{display:block;margin:2px 0;margin-left:13px;font-size:11px}.lsbb{background:#f8f9fa;border:solid 1px;border-color:#dadce0 #70757a #70757a #dadce0;height:30px}.lsbb{display:block}#WqQANb a{display:inline-block;margin:0 12px}.lsb{background:url(/images/nav_logo229.png) 0 -261px repeat-x;border:none;color:#000;cursor:pointer;height:30px;margin:0;outline:0;font:15px arial,sans-serif;vertical-align:top}.lsb:active{background:#dadce0}.lst:focus{outline:none}</style><script nonce=\"NW0uP9S1AEih2rYeQEdhmg==\">(function(){window.google.erd={jsr:1,bv:1493,de:true};\\nvar f=this||self;var g,h,k=null!==(g=f.mei)&&void 0!==g?g:1,l=null!==(h=f.sdo)&&void 0!==h?h:!0,p=0,q,r=google.erd,u=r.jsr;google.ml=function(a,b,d,m,c){c=void 0===c?2:c;b&&(q=a&&a.message);if(google.dl)return google.dl(a,c,d),null;if(0>u){window.console&&console.error(a,d);if(-2===u)throw a;b=!1}else b=!a||!a.message||\"Error loading script\"===a.message||p>=k&&!m?!1:!0;if(!b)return null;p++;d=d||{};var e=c;c=encodeURIComponent;b=\"/gen_204?atyp=i&ei=\"+c(google.kEI);google.kEXPI&&(b+=\"&jexpid=\"+c(google.kEXPI));b+=\"&srcpg=\"+c(google.sn)+\"&jsr=\"+c(r.jsr)+\"&bver=\"+c(r.bv)+(\"&jsel=\"+e);e=a.lineNumber;void 0!==e&&(b+=\"&line=\"+\\ne);var n=a.fileName;n&&(b+=\"&script=\"+c(n),e&&n===window.location.href&&(e=document.documentElement.outerHTML.split(\"\\\\n\")[e],b+=\"&cad=\"+c(e?e.substring(0,300):\"No script found.\")));for(var t in d)b+=\"&\",b+=c(t),b+=\"=\",b+=c(d[t]);b=b+\"&emsg=\"+c(a.name+\": \"+a.message);b=b+\"&jsst=\"+c(a.stack||\"N/A\");12288<=b.length&&(b=b.substr(0,12288));a=b;m||google.log(0,\"\",a);return a};window.onerror=function(a,b,d,m,c){q!==a&&(a=c instanceof Error?c:Error(a),void 0===d||\"lineNumber\"in a||(a.lineNumber=d),void 0===b||\"fileName\"in a||(a.fileName=b),google.ml(a,!1,void 0,!1,\"SyntaxError\"===a.name||\"SyntaxError\"===a.message.substring(0,11)?2:0));q=null;l&&p>=k&&(window.onerror=null)};})();</script></head><body bgcolor=\"#fff\"><script nonce=\"NW0uP9S1AEih2rYeQEdhmg==\">(function(){var src=\\'/images/nav_logo229.png\\';var iesg=false;document.body.onload = function(){window.n && window.n();if (document.images){new Image().src=src;}\\nif (!iesg){document.f&&document.f.q.focus();document.gbqf&&document.gbqf.q.focus();}\\n}\\n})();</script><div id=\"mngb\"><div id=gbar><nobr><b class=gb1>Search</b> <a class=gb1 href=\"https://www.google.com/imghp?hl=en&tab=wi\">Images</a> <a class=gb1 href=\"https://maps.google.com/maps?hl=en&tab=wl\">Maps</a> <a class=gb1 href=\"https://play.google.com/?hl=en&tab=w8\">Play</a> <a class=gb1 href=\"https://www.youtube.com/?gl=US&tab=w1\">YouTube</a> <a class=gb1 href=\"https://news.google.com/?tab=wn\">News</a> <a class=gb1 href=\"https://mail.google.com/mail/?tab=wm\">Gmail</a> <a class=gb1 href=\"https://drive.google.com/?tab=wo\">Drive</a> <a class=gb1 style=\"text-decoration:none\" href=\"https://www.google.com/intl/en/about/products?tab=wh\"><u>More</u> &raquo;</a></nobr></div><div id=guser width=100%><nobr><span id=gbn class=gbi></span><span id=gbf class=gbf></span><span id=gbe></span><a href=\"http://www.google.com/history/optout?hl=en\" class=gb4>Web History</a> | <a  href=\"/preferences?hl=en\" class=gb4>Settings</a> | <a target=_top id=gb_70 href=\"https://accounts.google.com/ServiceLogin?hl=en&passive=true&continue=https://www.google.com/&ec=GAZAAQ\" class=gb4>Sign in</a></nobr></div><div class=gbh style=left:0></div><div class=gbh style=right:0></div></div><center><br clear=\"all\" id=\"lgpd\"><div id=\"lga\"><a href=\"/search?ie=UTF-8&amp;q=New+Year%27s+Day&amp;oi=ddle&amp;ct=206451696&amp;hl=en&amp;si=AHuW2sTKkcygiABA_QY_APML0LA-zLeY72p7cWUnG9AtyAalP2UBfDqATmXOnAsf2y603jn48WmD_mZEiJEVbMhGZnBbdhXp5_SVXT4T_MHbnknScb0la30%3D&amp;sa=X&amp;ved=0ahUKEwj12N37nZD1AhUXZc0KHRhuAbwQPQgD\"><img alt=\"New Year\\'s Day 2022\" border=\"0\" height=\"200\" src=\"/logos/doodles/2022/new-years-day-2022-6753651837109338-law.gif\" title=\"New Year\\'s Day 2022\" width=\"500\" id=\"hplogo\"><br></a><br></div><form action=\"/search\" name=\"f\"><table cellpadding=\"0\" cellspacing=\"0\"><tr valign=\"top\"><td width=\"25%\">&nbsp;</td><td align=\"center\" nowrap=\"\"><input name=\"ie\" value=\"ISO-8859-1\" type=\"hidden\"><input value=\"en\" name=\"hl\" type=\"hidden\"><input name=\"source\" type=\"hidden\" value=\"hp\"><input name=\"biw\" type=\"hidden\"><input name=\"bih\" type=\"hidden\"><div class=\"ds\" style=\"height:32px;margin:4px 0\"><input class=\"lst\" style=\"margin:0;padding:5px 8px 0 6px;vertical-align:top;color:#000\" autocomplete=\"off\" value=\"\" title=\"Google Search\" maxlength=\"2048\" name=\"q\" size=\"57\"></div><br style=\"line-height:0\"><span class=\"ds\"><span class=\"lsbb\"><input class=\"lsb\" value=\"Google Search\" name=\"btnG\" type=\"submit\"></span></span><span class=\"ds\"><span class=\"lsbb\"><input class=\"lsb\" id=\"tsuid1\" value=\"I\\'m Feeling Lucky\" name=\"btnI\" type=\"submit\"><script nonce=\"NW0uP9S1AEih2rYeQEdhmg==\">(function(){var id=\\'tsuid1\\';document.getElementById(id).onclick = function(){if (this.form.q.value){this.checked = 1;if (this.form.iflsig)this.form.iflsig.disabled = false;}\\nelse top.location=\\'/doodles/\\';};})();</script><input value=\"ALs-wAMAAAAAYdAsLKCWgFs2SoY6W4ilmXTT4hXaJvfc\" name=\"iflsig\" type=\"hidden\"></span></span></td><td class=\"fl sblc\" align=\"left\" nowrap=\"\" width=\"25%\"><a href=\"/advanced_search?hl=en&amp;authuser=0\">Advanced search</a></td></tr></table><input id=\"gbv\" name=\"gbv\" type=\"hidden\" value=\"1\"><script nonce=\"NW0uP9S1AEih2rYeQEdhmg==\">(function(){\\nvar a,b=\"1\";if(document&&document.getElementById)if(\"undefined\"!=typeof XMLHttpRequest)b=\"2\";else if(\"undefined\"!=typeof ActiveXObject){var c,d,e=[\"MSXML2.XMLHTTP.6.0\",\"MSXML2.XMLHTTP.3.0\",\"MSXML2.XMLHTTP\",\"Microsoft.XMLHTTP\"];for(c=0;d=e[c++];)try{new ActiveXObject(d),b=\"2\"}catch(h){}}a=b;if(\"2\"==a&&-1==location.search.indexOf(\"&gbv=2\")){var f=google.gbvu,g=document.getElementById(\"gbv\");g&&(g.value=a);f&&window.setTimeout(function(){location.href=f},0)};}).call(this);</script></form><div id=\"gac_scont\"></div><div style=\"font-size:83%;min-height:3.5em\"><br></div><span id=\"footer\"><div style=\"font-size:10pt\"><div style=\"margin:19px auto;text-align:center\" id=\"WqQANb\"><a href=\"/intl/en/ads/\">Advertising\\xa0Programs</a><a href=\"/services/\">Business Solutions</a><a href=\"/intl/en/about.html\">About Google</a></div></div><p style=\"font-size:8pt;color:#70757a\">&copy; 2022 - <a href=\"/intl/en/policies/privacy/\">Privacy</a> - <a href=\"/intl/en/policies/terms/\">Terms</a></p></span></center><script nonce=\"NW0uP9S1AEih2rYeQEdhmg==\">(function(){window.google.cdo={height:757,width:1440};(function(){\\nvar a=window.innerWidth,b=window.innerHeight;if(!a||!b){var c=window.document,d=\"CSS1Compat\"==c.compatMode?c.documentElement:c.body;a=d.clientWidth;b=d.clientHeight}a&&b&&(a!=google.cdo.width||b!=google.cdo.height)&&google.log(\"\",\"\",\"/client_204?&atyp=i&biw=\"+a+\"&bih=\"+b+\"&ei=\"+google.kEI);}).call(this);})();</script> <script nonce=\"NW0uP9S1AEih2rYeQEdhmg==\">(function(){google.xjs={ck:\\'\\',cs:\\'\\',excm:[]};})();</script>  <script nonce=\"NW0uP9S1AEih2rYeQEdhmg==\">(function(){var u=\\'/xjs/_/js/k\\\\x3dxjs.hp.en_US.8My0PvgdGIk.O/am\\\\x3dAPAEAEACkA/d\\\\x3d1/ed\\\\x3d1/esmo\\\\x3d1/rs\\\\x3dACT90oExR5Nf5Ycd1T-9ae1P5o1L8-Y5Ng/m\\\\x3dsb_he,d\\';\\nvar e=this||self,f=function(a){return a};var g;var l=function(a,b){this.g=b===h?a:\"\"};l.prototype.toString=function(){return this.g+\"\"};var h={};\\nfunction m(){var a=u;google.lx=function(){n(a);google.lx=function(){}};google.bx||google.lx()}\\nfunction n(a){google.timers&&google.timers.load&&google.tick&&google.tick(\"load\",\"xjsls\");var b=document;var c=\"SCRIPT\";\"application/xhtml+xml\"===b.contentType&&(c=c.toLowerCase());c=b.createElement(c);if(void 0===g){b=null;var k=e.trustedTypes;if(k&&k.createPolicy){try{b=k.createPolicy(\"goog#html\",{createHTML:f,createScript:f,createScriptURL:f})}catch(p){e.console&&e.console.error(p.message)}g=b}else g=b}a=(b=g)?b.createScriptURL(a):a;a=new l(a,h);c.src=a instanceof l&&a.constructor===l?a.g:\"type_error:TrustedResourceUrl\";var d;a=(c.ownerDocument&&c.ownerDocument.defaultView||window).document;(d=(b=null===(d=a.querySelector)||void 0===d?void 0:d.call(a,\"script[nonce]\"))?b.nonce||b.getAttribute(\"nonce\")||\"\":\"\")&&c.setAttribute(\"nonce\",d);document.body.appendChild(c);google.psa=!0};google.xjsu=u;setTimeout(function(){m()},0);})();function _DumpException(e){throw e;}\\nfunction _F_installCss(c){}\\n(function(){google.jl={attn:false,blt:\\'none\\',chnk:0,dw:false,dwu:true,emtn:0,end:0,ine:false,lls:\\'default\\',pdt:0,rep:0,snet:true,strt:0,ubm:false,uwp:true};})();(function(){var pmc=\\'{\\\\x22d\\\\x22:{},\\\\x22sb_he\\\\x22:{\\\\x22agen\\\\x22:true,\\\\x22cgen\\\\x22:true,\\\\x22client\\\\x22:\\\\x22heirloom-hp\\\\x22,\\\\x22dh\\\\x22:true,\\\\x22dhqt\\\\x22:true,\\\\x22ds\\\\x22:\\\\x22\\\\x22,\\\\x22ffql\\\\x22:\\\\x22en\\\\x22,\\\\x22fl\\\\x22:true,\\\\x22host\\\\x22:\\\\x22google.com\\\\x22,\\\\x22isbh\\\\x22:28,\\\\x22jsonp\\\\x22:true,\\\\x22msgs\\\\x22:{\\\\x22cibl\\\\x22:\\\\x22Clear Search\\\\x22,\\\\x22dym\\\\x22:\\\\x22Did you mean:\\\\x22,\\\\x22lcky\\\\x22:\\\\x22I\\\\\\\\u0026#39;m Feeling Lucky\\\\x22,\\\\x22lml\\\\x22:\\\\x22Learn more\\\\x22,\\\\x22oskt\\\\x22:\\\\x22Input tools\\\\x22,\\\\x22psrc\\\\x22:\\\\x22This search was removed from your \\\\\\\\u003Ca href\\\\x3d\\\\\\\\\\\\x22/history\\\\\\\\\\\\x22\\\\\\\\u003EWeb History\\\\\\\\u003C/a\\\\\\\\u003E\\\\x22,\\\\x22psrl\\\\x22:\\\\x22Remove\\\\x22,\\\\x22sbit\\\\x22:\\\\x22Search by image\\\\x22,\\\\x22srch\\\\x22:\\\\x22Google Search\\\\x22},\\\\x22ovr\\\\x22:{},\\\\x22pq\\\\x22:\\\\x22\\\\x22,\\\\x22refpd\\\\x22:true,\\\\x22rfs\\\\x22:[],\\\\x22sbas\\\\x22:\\\\x220 3px 8px 0 rgba(0,0,0,0.2),0 0 0 1px rgba(0,0,0,0.08)\\\\x22,\\\\x22sbpl\\\\x22:16,\\\\x22sbpr\\\\x22:16,\\\\x22scd\\\\x22:10,\\\\x22stok\\\\x22:\\\\x22gbsqgaCAgiBYwD-DOqIdHy5yTTs\\\\x22,\\\\x22uhde\\\\x22:false}}\\';google.pmc=JSON.parse(pmc);})();</script>        </body></html>'\n"
          ]
        }
      ]
    },
    {
      "cell_type": "markdown",
      "source": [
        "# 07-2 외부 모듈"
      ],
      "metadata": {
        "id": "U7NkRh5P95Jk"
      }
    },
    {
      "cell_type": "markdown",
      "source": [
        "\n",
        "BeautifulSoup 모듈: 파이썬의 웹 페이지 분석 모듈"
      ],
      "metadata": {
        "id": "82IWmw0uC74R"
      }
    },
    {
      "cell_type": "code",
      "source": [
        "# BeautifulSoup 모듈로 날씨 가져오기\n",
        "\n",
        "from urllib import request\n",
        "from bs4 import BeautifulSoup\n",
        "\n",
        "# urlopen 함수로 기상청의 전국 날씨 일기.\n",
        "\n",
        "target = request.urlopen(\"http://www.kma.go.kr/weather/forecast/mid-term-rss3.jsp?stnId=108\")\n",
        "\n",
        "soup = BeautifulSoup(target, \"html.parser\")\n",
        "\n",
        "# location 태그를 찾습니다.\n",
        "for location in soup.select(\"location\"):\n",
        "  print(\"도시: \", location.select_one(\"city\").string)\n",
        "  print(\"날씨: \", location.select_one(\"wf\").string)\n",
        "  print(\"최저기온: \", location.select_one(\"tmn\").string)\n",
        "  print(\"최고기온: \", location.select_one(\"tmx\").string)\n",
        "  print()"
      ],
      "metadata": {
        "colab": {
          "base_uri": "https://localhost:8080/"
        },
        "id": "txnOLzxP9ZzP",
        "outputId": "e68e4df3-2db3-4084-ea9e-a8a325364ac4"
      },
      "execution_count": 26,
      "outputs": [
        {
          "output_type": "stream",
          "name": "stdout",
          "text": [
            "도시:  서울\n",
            "날씨:  맑음\n",
            "최저기온:  -4\n",
            "최고기온:  1\n",
            "\n",
            "도시:  인천\n",
            "날씨:  맑음\n",
            "최저기온:  -4\n",
            "최고기온:  0\n",
            "\n",
            "도시:  수원\n",
            "날씨:  맑음\n",
            "최저기온:  -5\n",
            "최고기온:  2\n",
            "\n",
            "도시:  파주\n",
            "날씨:  맑음\n",
            "최저기온:  -9\n",
            "최고기온:  0\n",
            "\n",
            "도시:  이천\n",
            "날씨:  맑음\n",
            "최저기온:  -5\n",
            "최고기온:  2\n",
            "\n",
            "도시:  평택\n",
            "날씨:  맑음\n",
            "최저기온:  -4\n",
            "최고기온:  1\n",
            "\n",
            "도시:  춘천\n",
            "날씨:  맑음\n",
            "최저기온:  -7\n",
            "최고기온:  2\n",
            "\n",
            "도시:  원주\n",
            "날씨:  맑음\n",
            "최저기온:  -5\n",
            "최고기온:  2\n",
            "\n",
            "도시:  강릉\n",
            "날씨:  맑음\n",
            "최저기온:  0\n",
            "최고기온:  6\n",
            "\n",
            "도시:  대전\n",
            "날씨:  맑음\n",
            "최저기온:  -2\n",
            "최고기온:  4\n",
            "\n",
            "도시:  세종\n",
            "날씨:  맑음\n",
            "최저기온:  -4\n",
            "최고기온:  3\n",
            "\n",
            "도시:  홍성\n",
            "날씨:  맑음\n",
            "최저기온:  -4\n",
            "최고기온:  2\n",
            "\n",
            "도시:  청주\n",
            "날씨:  맑음\n",
            "최저기온:  -3\n",
            "최고기온:  3\n",
            "\n",
            "도시:  충주\n",
            "날씨:  맑음\n",
            "최저기온:  -5\n",
            "최고기온:  2\n",
            "\n",
            "도시:  영동\n",
            "날씨:  맑음\n",
            "최저기온:  -3\n",
            "최고기온:  5\n",
            "\n",
            "도시:  광주\n",
            "날씨:  구름많음\n",
            "최저기온:  -1\n",
            "최고기온:  7\n",
            "\n",
            "도시:  목포\n",
            "날씨:  구름많음\n",
            "최저기온:  2\n",
            "최고기온:  6\n",
            "\n",
            "도시:  여수\n",
            "날씨:  구름많음\n",
            "최저기온:  1\n",
            "최고기온:  8\n",
            "\n",
            "도시:  순천\n",
            "날씨:  구름많음\n",
            "최저기온:  -1\n",
            "최고기온:  8\n",
            "\n",
            "도시:  광양\n",
            "날씨:  구름많음\n",
            "최저기온:  0\n",
            "최고기온:  9\n",
            "\n",
            "도시:  나주\n",
            "날씨:  구름많음\n",
            "최저기온:  -3\n",
            "최고기온:  6\n",
            "\n",
            "도시:  전주\n",
            "날씨:  구름많음\n",
            "최저기온:  -1\n",
            "최고기온:  5\n",
            "\n",
            "도시:  군산\n",
            "날씨:  구름많음\n",
            "최저기온:  -2\n",
            "최고기온:  4\n",
            "\n",
            "도시:  정읍\n",
            "날씨:  구름많음\n",
            "최저기온:  -1\n",
            "최고기온:  4\n",
            "\n",
            "도시:  남원\n",
            "날씨:  구름많음\n",
            "최저기온:  -3\n",
            "최고기온:  6\n",
            "\n",
            "도시:  고창\n",
            "날씨:  구름많음\n",
            "최저기온:  -2\n",
            "최고기온:  5\n",
            "\n",
            "도시:  무주\n",
            "날씨:  구름많음\n",
            "최저기온:  -3\n",
            "최고기온:  4\n",
            "\n",
            "도시:  부산\n",
            "날씨:  맑음\n",
            "최저기온:  1\n",
            "최고기온:  9\n",
            "\n",
            "도시:  울산\n",
            "날씨:  맑음\n",
            "최저기온:  -1\n",
            "최고기온:  7\n",
            "\n",
            "도시:  창원\n",
            "날씨:  맑음\n",
            "최저기온:  -2\n",
            "최고기온:  7\n",
            "\n",
            "도시:  진주\n",
            "날씨:  맑음\n",
            "최저기온:  -5\n",
            "최고기온:  9\n",
            "\n",
            "도시:  거창\n",
            "날씨:  맑음\n",
            "최저기온:  -4\n",
            "최고기온:  7\n",
            "\n",
            "도시:  통영\n",
            "날씨:  맑음\n",
            "최저기온:  0\n",
            "최고기온:  9\n",
            "\n",
            "도시:  대구\n",
            "날씨:  맑음\n",
            "최저기온:  -2\n",
            "최고기온:  7\n",
            "\n",
            "도시:  안동\n",
            "날씨:  맑음\n",
            "최저기온:  -4\n",
            "최고기온:  5\n",
            "\n",
            "도시:  포항\n",
            "날씨:  맑음\n",
            "최저기온:  -1\n",
            "최고기온:  7\n",
            "\n",
            "도시:  경주\n",
            "날씨:  맑음\n",
            "최저기온:  -4\n",
            "최고기온:  7\n",
            "\n",
            "도시:  울진\n",
            "날씨:  맑음\n",
            "최저기온:  -1\n",
            "최고기온:  7\n",
            "\n",
            "도시:  울릉도\n",
            "날씨:  맑음\n",
            "최저기온:  2\n",
            "최고기온:  4\n",
            "\n",
            "도시:  제주\n",
            "날씨:  구름많음\n",
            "최저기온:  5\n",
            "최고기온:  10\n",
            "\n",
            "도시:  서귀포\n",
            "날씨:  구름많음\n",
            "최저기온:  5\n",
            "최고기온:  13\n",
            "\n"
          ]
        }
      ]
    },
    {
      "cell_type": "markdown",
      "source": [
        "Flask 모듈"
      ],
      "metadata": {
        "id": "mbmyQ7B9IIBL"
      }
    },
    {
      "cell_type": "code",
      "source": [
        "from flask import Flask\n",
        "\n",
        "app = Flask(__name__)\n",
        "\n",
        "@app.route(\"/\")\n",
        "\n",
        "def hello():\n",
        "  return \"<h1>Hello World!</h1>\""
      ],
      "metadata": {
        "id": "nDw43ivlEwGi"
      },
      "execution_count": 29,
      "outputs": []
    },
    {
      "cell_type": "code",
      "source": [
        "set FLASK_APP = flask_basic.py\n",
        "flask run"
      ],
      "metadata": {
        "colab": {
          "base_uri": "https://localhost:8080/",
          "height": 136
        },
        "id": "wr9Rp7CXIW-d",
        "outputId": "e951d8a0-923a-4b1f-c8bf-448aa950019f"
      },
      "execution_count": 31,
      "outputs": [
        {
          "output_type": "error",
          "ename": "SyntaxError",
          "evalue": "ignored",
          "traceback": [
            "\u001b[0;36m  File \u001b[0;32m\"<ipython-input-31-75b3b79adef2>\"\u001b[0;36m, line \u001b[0;32m1\u001b[0m\n\u001b[0;31m    set FLASK_APP = flask_basic.py\u001b[0m\n\u001b[0m                ^\u001b[0m\n\u001b[0;31mSyntaxError\u001b[0m\u001b[0;31m:\u001b[0m invalid syntax\n"
          ]
        }
      ]
    },
    {
      "cell_type": "markdown",
      "source": [
        "BeautifulSoup 스크레이핑 실행하기"
      ],
      "metadata": {
        "id": "cQX1-ijPJ8Tq"
      }
    },
    {
      "cell_type": "code",
      "source": [
        "from flask import Flask\n",
        "from urllib import request\n",
        "from bs4 import BeautifulSoup\n",
        "\n",
        "# 웹 서버를 생성\n",
        "app = Flask(__name__)\n",
        "@app.route(\"/\")\n",
        "\n",
        "def hello():\n",
        "  # urlopen() 함수로 기상청의 전국 날씨 읽기\n",
        "  target = request.urlopen(\"http://www.kma.go.kr/weather/forecast/mid-term-rss3.jsp?stnId=108\")\n",
        "\n",
        "  # Beautifulsoup를 사용해 웹 페이지를 분석\n",
        "  soup = BeautifulSoup(target, \"html.parser\")\n",
        "\n",
        "  # locaition 태그를 찾기\n",
        "  output = \"\"\n",
        "  for location in soup.select(\"location\"):\n",
        "    # 내부의 city, wf, tmn, tmx 태그를 찾아 출력하기\n",
        "    output += \"<h3>{}</h3>\".format(location.select_one(\"city\").string)\n",
        "    output += \"날씨: {}<br/>\".format(location.select_one(\"wf\").string)\n",
        "    output += \"최저/최고 기온: {}/{}\"\\\n",
        "    .format(\\\n",
        "            location.select_one(\"tmn\").string, \\\n",
        "            location.select_one('tmx').string)\n",
        "    output += \"<hr/>\"\n",
        "  return output"
      ],
      "metadata": {
        "id": "QgNnmflKJKQN"
      },
      "execution_count": 33,
      "outputs": []
    },
    {
      "cell_type": "markdown",
      "source": [
        "함수 데코레이터: 대상 함수의 앞뒤에 꾸밀 부가적인 내용을, 혹은 반복할 내용을 데코레이터로 정의해서 손쉽게 사용할 수 있도록 한 것"
      ],
      "metadata": {
        "id": "0BroA41ONSC7"
      }
    },
    {
      "cell_type": "code",
      "source": [
        "# 함수  데코레이터의 기본\n",
        "\n",
        "def test(function):\n",
        "  def wrapper():\n",
        "    print(\"인사가 시작되었습니다.\")\n",
        "    function()\n",
        "    print(\"인사가 종료되었습니다.\")\n",
        "    return wrapper\n"
      ],
      "metadata": {
        "id": "cYOo10RDNhP4"
      },
      "execution_count": 38,
      "outputs": []
    },
    {
      "cell_type": "code",
      "source": [
        "# 데코레이터를 붙여 함수 만들기\n",
        "\n",
        "@test\n",
        "def hello():\n",
        "  print(\"hello\")"
      ],
      "metadata": {
        "id": "-EodVzxTOg-q"
      },
      "execution_count": 40,
      "outputs": []
    },
    {
      "cell_type": "code",
      "source": [
        "hello()"
      ],
      "metadata": {
        "colab": {
          "base_uri": "https://localhost:8080/",
          "height": 172
        },
        "id": "86D9taiUO6h4",
        "outputId": "29a4aed3-bf67-404b-ba16-cb2711419b34"
      },
      "execution_count": 41,
      "outputs": [
        {
          "output_type": "error",
          "ename": "TypeError",
          "evalue": "ignored",
          "traceback": [
            "\u001b[0;31m---------------------------------------------------------------------------\u001b[0m",
            "\u001b[0;31mTypeError\u001b[0m                                 Traceback (most recent call last)",
            "\u001b[0;32m<ipython-input-41-a75d7781aaeb>\u001b[0m in \u001b[0;36m<module>\u001b[0;34m()\u001b[0m\n\u001b[0;32m----> 1\u001b[0;31m \u001b[0mhello\u001b[0m\u001b[0;34m(\u001b[0m\u001b[0;34m)\u001b[0m\u001b[0;34m\u001b[0m\u001b[0;34m\u001b[0m\u001b[0m\n\u001b[0m",
            "\u001b[0;31mTypeError\u001b[0m: 'NoneType' object is not callable"
          ]
        }
      ]
    },
    {
      "cell_type": "code",
      "source": [
        "from functools import wraps\n",
        "\n",
        "def test(function):\n",
        "  @wraps(function)\n",
        "\n",
        "def wrapper(*arg, **kwargs):\n",
        "  print(\"인사가 시작되었습니다.\")\n",
        "  function(*arg, **kwargs)\n",
        "  print(\"인사가 종료되었습니다.\")\n",
        "  return wrapper"
      ],
      "metadata": {
        "colab": {
          "base_uri": "https://localhost:8080/",
          "height": 136
        },
        "id": "t9Nwj2gSO661",
        "outputId": "01c6434f-382b-4a9f-993b-d1b3a900078a"
      },
      "execution_count": 44,
      "outputs": [
        {
          "output_type": "error",
          "ename": "IndentationError",
          "evalue": "ignored",
          "traceback": [
            "\u001b[0;36m  File \u001b[0;32m\"<ipython-input-44-fba53237ed3b>\"\u001b[0;36m, line \u001b[0;32m6\u001b[0m\n\u001b[0;31m    def wrapper(*arg, **kwargs):\u001b[0m\n\u001b[0m                                ^\u001b[0m\n\u001b[0;31mIndentationError\u001b[0m\u001b[0;31m:\u001b[0m unexpected unindent\n"
          ]
        }
      ]
    },
    {
      "cell_type": "code",
      "source": [
        ""
      ],
      "metadata": {
        "id": "b3tBaJjZPZhx"
      },
      "execution_count": null,
      "outputs": []
    }
  ]
}