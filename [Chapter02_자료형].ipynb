{
  "nbformat": 4,
  "nbformat_minor": 0,
  "metadata": {
    "colab": {
      "name": "[Chapter02.자료형].ipynb",
      "provenance": [],
      "collapsed_sections": [],
      "toc_visible": true,
      "authorship_tag": "ABX9TyOpufykWecWr95B+6/zBUg7",
      "include_colab_link": true
    },
    "kernelspec": {
      "name": "python3",
      "display_name": "Python 3"
    },
    "language_info": {
      "name": "python"
    },
    "accelerator": "GPU"
  },
  "cells": [
    {
      "cell_type": "markdown",
      "metadata": {
        "id": "view-in-github",
        "colab_type": "text"
      },
      "source": [
        "<a href=\"https://colab.research.google.com/github/CamelGoong/Python_practicing/blob/main/%5BChapter02_%EC%9E%90%EB%A3%8C%ED%98%95%5D.ipynb\" target=\"_parent\"><img src=\"https://colab.research.google.com/assets/colab-badge.svg\" alt=\"Open In Colab\"/></a>"
      ]
    },
    {
      "cell_type": "markdown",
      "source": [
        "#02-1 자료형과 문자열"
      ],
      "metadata": {
        "id": "VhqmzRE_mRJw"
      }
    },
    {
      "cell_type": "markdown",
      "source": [
        "문자열 만들기"
      ],
      "metadata": {
        "id": "avxmQPupmY0N"
      }
    },
    {
      "cell_type": "markdown",
      "source": [
        ">이스케이프 문자를 사용해 문자열 만들기"
      ],
      "metadata": {
        "id": "3RFHuIybmbIy"
      }
    },
    {
      "cell_type": "code",
      "execution_count": 2,
      "metadata": {
        "colab": {
          "base_uri": "https://localhost:8080/"
        },
        "id": "1f7iTqemXsKK",
        "outputId": "394e430d-ae52-497d-fd3b-124ed3fe3b65"
      },
      "outputs": [
        {
          "output_type": "stream",
          "name": "stdout",
          "text": [
            "안녕하세요\n",
            "안녕하세요\n"
          ]
        }
      ],
      "source": [
        "# \\n: 줄바꿈\n",
        "print(\"안녕하세요\\n안녕하세요\")"
      ]
    },
    {
      "cell_type": "markdown",
      "source": [
        "사용자 입력: input()"
      ],
      "metadata": {
        "id": "QuINiA5QoR9b"
      }
    },
    {
      "cell_type": "code",
      "source": [
        "string = input(\"인삿말을 입력하세요.\")\n",
        "print(string)"
      ],
      "metadata": {
        "colab": {
          "base_uri": "https://localhost:8080/"
        },
        "id": "nSKVYbg0mpKM",
        "outputId": "59451aa6-0a1d-43b8-ae73-0ba6ef8a6d32"
      },
      "execution_count": 2,
      "outputs": [
        {
          "output_type": "stream",
          "name": "stdout",
          "text": [
            "인삿말을 입력하세요.태원쓰 얼굴쓰\n",
            "태원쓰 얼굴쓰\n"
          ]
        }
      ]
    },
    {
      "cell_type": "markdown",
      "source": [
        "input 함수는 무엇을 입력하더라도, 자료형이 'string'이 됨."
      ],
      "metadata": {
        "id": "FcyEBWPupgCM"
      }
    },
    {
      "cell_type": "markdown",
      "source": [
        "#02-4 숫자와 문자열의 다양한 기능"
      ],
      "metadata": {
        "id": "ecA6V5pNqXdf"
      }
    },
    {
      "cell_type": "markdown",
      "source": [
        ">format 함수의 활용"
      ],
      "metadata": {
        "id": "tTLwV2_-urqV"
      }
    },
    {
      "cell_type": "code",
      "source": [
        "# format() 함수로 숫자를 문자열로 변환하기\n",
        "\n",
        "string_a = \"{}\".format(10)\n",
        "\n",
        "print(string_a)\n",
        "\n",
        "string_b = \"{} {}\".format(10, 20)\n",
        "\n",
        "print(string_b)"
      ],
      "metadata": {
        "colab": {
          "base_uri": "https://localhost:8080/"
        },
        "id": "Yegf3dMmoY0J",
        "outputId": "947cacbd-825f-4805-d463-a394a55e2446"
      },
      "execution_count": 5,
      "outputs": [
        {
          "output_type": "stream",
          "name": "stdout",
          "text": [
            "10\n",
            "10 20\n"
          ]
        }
      ]
    },
    {
      "cell_type": "code",
      "source": [
        "format_b = \"파이썬 열공하여 첫 연봉 {}만원 만들기\".format(9000)\n",
        "\n",
        "print(format_b)"
      ],
      "metadata": {
        "colab": {
          "base_uri": "https://localhost:8080/"
        },
        "id": "6awASvLUrH4U",
        "outputId": "109779bc-876c-4ef7-faa1-d982448d600d"
      },
      "execution_count": 8,
      "outputs": [
        {
          "output_type": "stream",
          "name": "stdout",
          "text": [
            "파이썬 열공하여 첫 연봉 9000만원 만들기\n"
          ]
        }
      ]
    },
    {
      "cell_type": "code",
      "source": [
        "# 정수를 특정 칸에 출력하기\n",
        "\n",
        "output_b = \"{:5d}\".format(52) # 숫자 52를 5번째 칸에 출력하기\n",
        "output_c = \"{:05d}\".format(52) # 숫자 52를 5번째 칸에 출력하기 (빈칸은 0으로 채우기)\n",
        "\n",
        "print(\"5번째 칸 안에 출력하기\")\n",
        "print(output_b)\n",
        "\n",
        "print(\"5번째 칸 안에 빈칸은 0으로 채워서 출력하기\")\n",
        "print(output_c)"
      ],
      "metadata": {
        "colab": {
          "base_uri": "https://localhost:8080/"
        },
        "id": "sND_CfiZrs_m",
        "outputId": "87bd7cf1-3952-4301-d8cf-d65fd801d262"
      },
      "execution_count": 11,
      "outputs": [
        {
          "output_type": "stream",
          "name": "stdout",
          "text": [
            "5번째 칸 안에 출력하기\n",
            "   52\n",
            "5번째 칸 안에 빈칸은 0으로 채워서 출력하기\n",
            "00052\n"
          ]
        }
      ]
    },
    {
      "cell_type": "code",
      "source": [
        "# 소수점 아래 자릿수 지정하기\n",
        "\n",
        "output_a = \"{:15.3f}\".format(62.35433) # 소수점을 포함한 숫자를 15칸 안에 소수점 3자리까지만 표시하기\n",
        "\n",
        "print(\"소수점을 포함한 숫자를 15칸 안에 소수점 3자리까지만 표시하기\")\n",
        "print(output_a)"
      ],
      "metadata": {
        "colab": {
          "base_uri": "https://localhost:8080/"
        },
        "id": "OUpNggNlsaW9",
        "outputId": "2eccba98-8dda-4ed5-e505-be5cd8488ebe"
      },
      "execution_count": 12,
      "outputs": [
        {
          "output_type": "stream",
          "name": "stdout",
          "text": [
            "소수점을 포함한 숫자를 15칸 안에 소수점 3자리까지만 표시하기\n",
            "         62.354\n"
          ]
        }
      ]
    },
    {
      "cell_type": "code",
      "source": [
        "# 의미없는 소수점 제거하기\n",
        "output_a = 52.0\n",
        "output_b = \"{:g}\".format(output_a)\n",
        "\n",
        "print(\"초기값:\")\n",
        "print(output_a)\n",
        "print(\"의미없는 소수점을 제거한 후 결과:\")\n",
        "print(output_b)"
      ],
      "metadata": {
        "colab": {
          "base_uri": "https://localhost:8080/"
        },
        "id": "zJoBQJQxuCjf",
        "outputId": "77077d91-c40d-4648-8328-da6effc59f42"
      },
      "execution_count": 15,
      "outputs": [
        {
          "output_type": "stream",
          "name": "stdout",
          "text": [
            "초기값:\n",
            "52.0\n",
            "의미없는 소수점을 제거한 후 결과:\n",
            "52\n"
          ]
        }
      ]
    },
    {
      "cell_type": "markdown",
      "source": [
        ">문자열 양 옆의 공백 제거하기: strip() / lstrip() / rstrip()"
      ],
      "metadata": {
        "id": "RS2FQNuhuuKP"
      }
    },
    {
      "cell_type": "code",
      "source": [
        "input_a = \"            안녕하세요 문자열의 함수를 알아봅니다        \"\n",
        "\n",
        "print(\"초기값: \")\n",
        "print(input_a)\n",
        "print()\n",
        "print(\"strip()을 적용한 후의 값:\")\n",
        "print(input_a.strip())"
      ],
      "metadata": {
        "colab": {
          "base_uri": "https://localhost:8080/"
        },
        "id": "_nMJhQWNuUss",
        "outputId": "2dff00ca-6d2f-4728-c5b4-9075c30f2331"
      },
      "execution_count": 18,
      "outputs": [
        {
          "output_type": "stream",
          "name": "stdout",
          "text": [
            "초기값: \n",
            "            안녕하세요 문자열의 함수를 알아봅니다        \n",
            "\n",
            "strip()을 적용한 후의 값:\n",
            "안녕하세요 문자열의 함수를 알아봅니다\n"
          ]
        }
      ]
    },
    {
      "cell_type": "markdown",
      "source": [
        ">문자열의 구성 파악하기"
      ],
      "metadata": {
        "id": "NTf2u2R4vaED"
      }
    },
    {
      "cell_type": "code",
      "source": [
        "# isalnum(): 문자열이 알파벳 또는 숫자로만 구성되어 있는지 확인.\n",
        "\n",
        "print(\"TrainA10\".isalnum())"
      ],
      "metadata": {
        "colab": {
          "base_uri": "https://localhost:8080/"
        },
        "id": "8NYCDUZAvMyf",
        "outputId": "97285a2e-6beb-4f2d-d587-d2701d1639fc"
      },
      "execution_count": 20,
      "outputs": [
        {
          "output_type": "stream",
          "name": "stdout",
          "text": [
            "True\n"
          ]
        }
      ]
    },
    {
      "cell_type": "markdown",
      "source": [
        ">문자열 찾기: find()와 rfind()"
      ],
      "metadata": {
        "id": "97ebRaxuvuLV"
      }
    },
    {
      "cell_type": "code",
      "source": [
        "output_a = \"안녕안녕하세요\".find(\"안녕\")\n",
        "\n",
        "print(output_a)"
      ],
      "metadata": {
        "colab": {
          "base_uri": "https://localhost:8080/"
        },
        "id": "AsEJWVvjvovd",
        "outputId": "d27bcb3a-c929-4b97-f096-39128189aaca"
      },
      "execution_count": 23,
      "outputs": [
        {
          "output_type": "stream",
          "name": "stdout",
          "text": [
            "0\n"
          ]
        }
      ]
    },
    {
      "cell_type": "markdown",
      "source": [
        ">문자열과 in 연산자"
      ],
      "metadata": {
        "id": "XgVKx3M8wH35"
      }
    },
    {
      "cell_type": "code",
      "source": [
        "print(\"안녕\" in \"안녕하세요\")"
      ],
      "metadata": {
        "colab": {
          "base_uri": "https://localhost:8080/"
        },
        "id": "p_3VnioLwBR3",
        "outputId": "4922d05d-4b32-4f19-a232-9e7f62ff1f98"
      },
      "execution_count": 24,
      "outputs": [
        {
          "output_type": "stream",
          "name": "stdout",
          "text": [
            "True\n"
          ]
        }
      ]
    }
  ]
}