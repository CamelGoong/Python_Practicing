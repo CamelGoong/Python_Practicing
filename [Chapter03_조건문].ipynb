{
  "nbformat": 4,
  "nbformat_minor": 0,
  "metadata": {
    "colab": {
      "name": "[Chapter03.조건문].ipynb",
      "provenance": [],
      "collapsed_sections": [],
      "authorship_tag": "ABX9TyPJcRz4rLtcTqQsa0WDMfGa",
      "include_colab_link": true
    },
    "kernelspec": {
      "name": "python3",
      "display_name": "Python 3"
    },
    "language_info": {
      "name": "python"
    },
    "accelerator": "GPU"
  },
  "cells": [
    {
      "cell_type": "markdown",
      "metadata": {
        "id": "view-in-github",
        "colab_type": "text"
      },
      "source": [
        "<a href=\"https://colab.research.google.com/github/CamelGoong/Python_practicing/blob/main/%5BChapter03_%EC%A1%B0%EA%B1%B4%EB%AC%B8%5D.ipynb\" target=\"_parent\"><img src=\"https://colab.research.google.com/assets/colab-badge.svg\" alt=\"Open In Colab\"/></a>"
      ]
    },
    {
      "cell_type": "markdown",
      "source": [
        "#03-1 불 자료형과 if 조건문"
      ],
      "metadata": {
        "id": "zAliE31L4MX3"
      }
    },
    {
      "cell_type": "code",
      "execution_count": 1,
      "metadata": {
        "colab": {
          "base_uri": "https://localhost:8080/"
        },
        "id": "I_qT-TnL4Fmd",
        "outputId": "b37a97c4-e75d-43d9-d524-5da74c68bfbb"
      },
      "outputs": [
        {
          "output_type": "stream",
          "name": "stdout",
          "text": [
            "True\n"
          ]
        }
      ],
      "source": [
        "# 가방이 사전순서로 비교했을 때, 하마보다 앞쪽에 있음.\n",
        "\n",
        "print(\"가방\" < \"하마\" )"
      ]
    },
    {
      "cell_type": "markdown",
      "source": [
        "날짜 / 시간 활용하기"
      ],
      "metadata": {
        "id": "gaTQJOQH7e1h"
      }
    },
    {
      "cell_type": "code",
      "source": [
        "import datetime\n",
        "\n",
        "now = datetime.datetime.now()\n",
        "\n",
        "print(now.year, \"년\")\n",
        "print(now.month, \"월\")\n",
        "print(now.day, \"일\")"
      ],
      "metadata": {
        "colab": {
          "base_uri": "https://localhost:8080/"
        },
        "id": "1I3gJ_kJ4jr_",
        "outputId": "f1bef5cf-afb8-47d1-8463-ae19363cb0a5"
      },
      "execution_count": 2,
      "outputs": [
        {
          "output_type": "stream",
          "name": "stdout",
          "text": [
            "2021 년\n",
            "12 월\n",
            "23 일\n"
          ]
        }
      ]
    },
    {
      "cell_type": "code",
      "source": [
        "if 0:\n",
        "  print(\"0은 True로 변환됩니다\")\n",
        "else:\n",
        "  print(\"0은 False로 변환됩니다\")\n",
        "\n",
        "\n",
        "if \"\":\n",
        "  print(\"빈 문자열은 True로 변환됩니다.\")\n",
        "else:\n",
        "  print(\"빈 문자열은 False로 변환됩니다\")"
      ],
      "metadata": {
        "colab": {
          "base_uri": "https://localhost:8080/"
        },
        "id": "ekeBhoWE71vb",
        "outputId": "8dd1f4cb-7e34-4832-d051-0e930dd61c1d"
      },
      "execution_count": 4,
      "outputs": [
        {
          "output_type": "stream",
          "name": "stdout",
          "text": [
            "0은 False로 변환됩니다\n",
            "빈 문자열은 False로 변환됩니다\n"
          ]
        }
      ]
    },
    {
      "cell_type": "code",
      "source": [
        "# Pass 키워드를 사용한 미구현 부분 입력\n",
        "\n",
        "number = input(\"숫자 입력\")\n",
        "number = int(number)\n",
        "\n",
        "if number > 0:\n",
        "  pass\n",
        "else:\n",
        "  pass"
      ],
      "metadata": {
        "colab": {
          "base_uri": "https://localhost:8080/"
        },
        "id": "cItKOqbuABfi",
        "outputId": "404decfa-96e4-4c8c-c00e-b46cc4e9a03c"
      },
      "execution_count": 5,
      "outputs": [
        {
          "name": "stdout",
          "output_type": "stream",
          "text": [
            "숫자 입력10\n"
          ]
        }
      ]
    },
    {
      "cell_type": "code",
      "source": [
        "# raise NotImplementedError로 '아직 구현되지 않은 부분이에요'라는 오류를 강제로 발생시키기\n",
        "number = input(\"숫자 입력\")\n",
        "number = int(number)\n",
        "\n",
        "if number > 0:\n",
        "  raise NotImplementedError\n",
        "else:\n",
        "  raise NotImplementedError"
      ],
      "metadata": {
        "colab": {
          "base_uri": "https://localhost:8080/",
          "height": 263
        },
        "id": "VFOSBO8UAv0g",
        "outputId": "0eddefbb-6318-48cc-881d-f5dd864e670c"
      },
      "execution_count": 7,
      "outputs": [
        {
          "name": "stdout",
          "output_type": "stream",
          "text": [
            "숫자 입력11\n"
          ]
        },
        {
          "output_type": "error",
          "ename": "NotImplementedError",
          "evalue": "ignored",
          "traceback": [
            "\u001b[0;31m---------------------------------------------------------------------------\u001b[0m",
            "\u001b[0;31mNotImplementedError\u001b[0m                       Traceback (most recent call last)",
            "\u001b[0;32m<ipython-input-7-e52545526d52>\u001b[0m in \u001b[0;36m<module>\u001b[0;34m()\u001b[0m\n\u001b[1;32m      4\u001b[0m \u001b[0;34m\u001b[0m\u001b[0m\n\u001b[1;32m      5\u001b[0m \u001b[0;32mif\u001b[0m \u001b[0mnumber\u001b[0m \u001b[0;34m>\u001b[0m \u001b[0;36m0\u001b[0m\u001b[0;34m:\u001b[0m\u001b[0;34m\u001b[0m\u001b[0;34m\u001b[0m\u001b[0m\n\u001b[0;32m----> 6\u001b[0;31m   \u001b[0;32mraise\u001b[0m \u001b[0mNotImplementedError\u001b[0m\u001b[0;34m\u001b[0m\u001b[0;34m\u001b[0m\u001b[0m\n\u001b[0m\u001b[1;32m      7\u001b[0m \u001b[0;32melse\u001b[0m\u001b[0;34m:\u001b[0m\u001b[0;34m\u001b[0m\u001b[0;34m\u001b[0m\u001b[0m\n\u001b[1;32m      8\u001b[0m   \u001b[0;32mraise\u001b[0m \u001b[0mNotImplementedError\u001b[0m\u001b[0;34m\u001b[0m\u001b[0;34m\u001b[0m\u001b[0m\n",
            "\u001b[0;31mNotImplementedError\u001b[0m: "
          ]
        }
      ]
    },
    {
      "cell_type": "code",
      "source": [
        ""
      ],
      "metadata": {
        "id": "7X6KtmLuBbPI"
      },
      "execution_count": null,
      "outputs": []
    }
  ]
}