{
  "nbformat": 4,
  "nbformat_minor": 0,
  "metadata": {
    "colab": {
      "name": "[Chapter04.반복문].ipynb",
      "provenance": [],
      "collapsed_sections": [],
      "authorship_tag": "ABX9TyM7G67RZE8kwCdNVJKuEN2N",
      "include_colab_link": true
    },
    "kernelspec": {
      "name": "python3",
      "display_name": "Python 3"
    },
    "language_info": {
      "name": "python"
    }
  },
  "cells": [
    {
      "cell_type": "markdown",
      "metadata": {
        "id": "view-in-github",
        "colab_type": "text"
      },
      "source": [
        "<a href=\"https://colab.research.google.com/github/CamelGoong/Python_practicing/blob/main/%5BChapter04_%EB%B0%98%EB%B3%B5%EB%AC%B8%5D.ipynb\" target=\"_parent\"><img src=\"https://colab.research.google.com/assets/colab-badge.svg\" alt=\"Open In Colab\"/></a>"
      ]
    },
    {
      "cell_type": "markdown",
      "source": [
        "#04-1 리스트와 반복문"
      ],
      "metadata": {
        "id": "LvMc1_YREuAb"
      }
    },
    {
      "cell_type": "markdown",
      "source": [
        "리스트에 요소 추가하기: append, insert"
      ],
      "metadata": {
        "id": "br5Fz31dE13v"
      }
    },
    {
      "cell_type": "code",
      "execution_count": 2,
      "metadata": {
        "colab": {
          "base_uri": "https://localhost:8080/"
        },
        "id": "JDS4KXxCEomW",
        "outputId": "cd5d9151-6e8e-4f2c-da43-1ffc60a83c15"
      },
      "outputs": [
        {
          "output_type": "stream",
          "name": "stdout",
          "text": [
            "[1, 2, 3, 5]\n",
            "[1, 2, 3, 4, 5]\n"
          ]
        }
      ],
      "source": [
        "# insert는 append와 달리 리스트 중간에 요소를 추가\n",
        "\n",
        "list = [1, 2, 3, 5]\n",
        "print(list)\n",
        "list.insert(3, 4)\n",
        "print(list)"
      ]
    },
    {
      "cell_type": "code",
      "source": [
        "# extend() 함수: 리스트에 한 번에 여러 요소를 추가 / 매개변수로 리스트 형태로 입력\n",
        "\n",
        "list_a = [1, 2, 3]\n",
        "print(list_a)\n",
        "list_a.extend([4, 5, 6])\n",
        "print(list_a)"
      ],
      "metadata": {
        "colab": {
          "base_uri": "https://localhost:8080/"
        },
        "id": "EBDfo_UCFE-u",
        "outputId": "117104c0-ed26-4f26-ef21-3ed18e6eb2cb"
      },
      "execution_count": 3,
      "outputs": [
        {
          "output_type": "stream",
          "name": "stdout",
          "text": [
            "[1, 2, 3]\n",
            "[1, 2, 3, 4, 5, 6]\n"
          ]
        }
      ]
    },
    {
      "cell_type": "markdown",
      "source": [
        "리스트에 요소 제거하기"
      ],
      "metadata": {
        "id": "Nijgjka5FsQi"
      }
    },
    {
      "cell_type": "code",
      "source": [
        "# del과 pop 모두 인덱스로 요소를 제거\n",
        "list_a = [1, 2, 3, 4, 5]\n",
        "print(list_a)\n",
        "list_a.pop(0)\n",
        "print(list_a)\n",
        "del list_a[1]\n",
        "print(list_a)"
      ],
      "metadata": {
        "colab": {
          "base_uri": "https://localhost:8080/"
        },
        "id": "dkv0Y0GgFdFC",
        "outputId": "d138839d-f3a2-45fc-e3e8-244e0d728f7b"
      },
      "execution_count": 4,
      "outputs": [
        {
          "output_type": "stream",
          "name": "stdout",
          "text": [
            "[1, 2, 3, 4, 5]\n",
            "[2, 3, 4, 5]\n",
            "[2, 4, 5]\n"
          ]
        }
      ]
    },
    {
      "cell_type": "code",
      "source": [
        "# remove: 값으로 제거하기 / 동일한 값이 여러개 있는 경우에는 가장 앞쪽(왼쪽)에 있는 값만 제거됨\n",
        "\n",
        "list_c = [1, 2, 1, 2, 3, 1]\n",
        "print(list_c)\n",
        "list_c.remove(1)\n",
        "print(list_c)"
      ],
      "metadata": {
        "colab": {
          "base_uri": "https://localhost:8080/"
        },
        "id": "ufCS0xUYGJXL",
        "outputId": "e9351c29-15a7-4c27-90da-d93f5806eda2"
      },
      "execution_count": 5,
      "outputs": [
        {
          "output_type": "stream",
          "name": "stdout",
          "text": [
            "[1, 2, 1, 2, 3, 1]\n",
            "[2, 1, 2, 3, 1]\n"
          ]
        }
      ]
    },
    {
      "cell_type": "code",
      "source": [
        "# clear: 모두 제거하기\n",
        "list_d = [1, 2, 3, 4, 5, 6]\n",
        "print(list_d)\n",
        "list_d.clear()\n",
        "print(list_d)"
      ],
      "metadata": {
        "colab": {
          "base_uri": "https://localhost:8080/"
        },
        "id": "i7Wv5HGsGsor",
        "outputId": "ffd6dd56-d14c-4708-a77a-c5654aeaf3bc"
      },
      "execution_count": 6,
      "outputs": [
        {
          "output_type": "stream",
          "name": "stdout",
          "text": [
            "[1, 2, 3, 4, 5, 6]\n",
            "[]\n"
          ]
        }
      ]
    },
    {
      "cell_type": "code",
      "source": [
        ""
      ],
      "metadata": {
        "id": "ZdwwliGGHC90"
      },
      "execution_count": null,
      "outputs": []
    }
  ]
}